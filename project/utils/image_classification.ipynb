{
 "cells": [
  {
   "cell_type": "code",
   "execution_count": null,
   "metadata": {},
   "outputs": [],
   "source": [
    "import tensorflow as tf\n",
    "import os\n",
    "import pathlib\n",
    "import IPython\n",
    "import sys\n",
    "from sklearn.model_selection import train_test_split\n",
    "import cv2\n",
    "import numpy as np"
   ]
  },
  {
   "cell_type": "code",
   "execution_count": null,
   "metadata": {},
   "outputs": [],
   "source": [
    "# from google.colab import drive             \n",
    "# drive.mount('/content/drive')"
   ]
  },
  {
   "cell_type": "code",
   "execution_count": null,
   "metadata": {},
   "outputs": [],
   "source": [
    "data_dir = pathlib.Path('/home/samer/Desktop/Tobacco3482-jpg/')\n",
    "\n",
    "img_data_array = []\n",
    "class_name = []\n",
    "\n",
    "for dir1 in os.listdir(data_dir):\n",
    "    for file in os.listdir(os.path.join(data_dir, dir1)):\n",
    "        image_path = os.path.join(data_dir, dir1, file)\n",
    "        image = cv2.imread(image_path, cv2.COLOR_BGR2RGB)\n",
    "        if image is None:\n",
    "            continue\n",
    "        image = cv2.resize(image, (1200, 1200))\n",
    "        image = np.array(image)\n",
    "        image = image.astype(\"float32\")\n",
    "        image /= 255\n",
    "        if len(image.shape) < 3:\n",
    "            continue\n",
    "        else:\n",
    "            img_data_array.append(image)\n",
    "            class_name.append(dir1)\n",
    "\n",
    "\n",
    "# Split data into training and testing sets\n",
    "labels = tf.keras.utils.to_categorical(class_name)\n",
    "x_train, x_test, y_train, y_test = train_test_split(np.array(image_data_array), np.array(class_name), test_size=0.3)\n",
    "\n",
    "\n",
    "# data_path_test = pathlib.Path('/content/drive/MyDrive/archiveX3/Testing/')\n",
    "# AUTOTUNE=tf.data.AUTOTUNE\n",
    "\n",
    "# dataset_path = tf.keras.utils.image_dataset_from_directory(        # Training dataset\n",
    "#     data_path,\n",
    "#     labels= 'inferred',\n",
    "#     validation_split=0.2,\n",
    "#     subset='training',\n",
    "#     seed= 1,\n",
    "#     batch_size=5,\n",
    "#     image_size=(299, 299),\n",
    "#     color_mode=\"rgb\",\n",
    "#     shuffle=True)#.cache().prefetch(buffer_size=AUTOTUNE)\n",
    "\n",
    "# dataset_path_val = tf.keras.utils.image_dataset_from_directory(      #Validation dataset\n",
    "#     data_path,\n",
    "#     labels= 'inferred',\n",
    "#     validation_split=0.2,\n",
    "#     subset='validation',\n",
    "#     seed= 2,\n",
    "#     batch_size=5,\n",
    "#     image_size=(299, 299),\n",
    "#     color_mode=\"rgb\",\n",
    "#     shuffle=True)#.cache().prefetch(buffer_size=AUTOTUNE)"
   ]
  },
  {
   "cell_type": "code",
   "execution_count": null,
   "metadata": {},
   "outputs": [],
   "source": [
    "base_model = tf.keras.applications.inception_v3.InceptionV3(\n",
    "    input_shape = (299, 299, 3),\n",
    "    include_top = False, \n",
    "    weights = \"imagenet\"                  \n",
    ")"
   ]
  },
  {
   "cell_type": "code",
   "execution_count": null,
   "metadata": {},
   "outputs": [],
   "source": [
    "saving_path = pathlib.Path('/home/samer/Desktop/Tobacco3482-jpg/SavedBaseModel.h5')\n",
    "\n",
    "base_model.save(saving_path)"
   ]
  },
  {
   "cell_type": "code",
   "execution_count": null,
   "metadata": {},
   "outputs": [],
   "source": [
    "model_path = pathlib.Path('/home/samer/Desktop/Tobacco3482-jpg/SavedBaseModel.h5')\n",
    "\n",
    "base_model = tf.keras.models.load_model(model_path)                 #Loading base_model\n",
    "\n",
    "base_model.trainable = False                                        # Setting the model as non-trainable\n",
    "\n",
    "rescaling = tf.keras.Sequential([                                        \n",
    "  tf.keras.layers.Rescaling(scale=1 / 127.5, offset=-1)             # Rescaling to (1, -1) range required for inceptionV3 model\n",
    "])\n",
    "augmentation = tf.keras.Sequential([                                # Applying augmentations o the images\n",
    "   tf.keras.layers.RandomFlip(\"horizontal\"),\n",
    "   tf.keras.layers.RandomRotation(0.1)\n",
    "])\n",
    "\n",
    "\n",
    "inputs = tf.keras.Input(shape=(1200, 1200, 3))\n",
    "x = augmentation(inputs)\n",
    "x = rescaling(x)\n",
    "x = base_model(x, training=False)\n",
    "x = tf.keras.layers.GlobalAveragePooling2D()(x)\n",
    "outputs = tf.keras.layers.Dense(4, activation='softmax')(x)                   # \"softmax\" in the final layer for decision making\n",
    "model = tf.keras.Model(inputs, outputs)\n",
    "\n",
    "\n",
    "model.compile(\n",
    "    optimizer = tf.keras.optimizers.Adam(learning_rate = 0.0005),        # compiling with low learning rate\n",
    "    loss=tf.losses.SparseCategoricalCrossentropy(),\n",
    "    metrics=['accuracy'],\n",
    "    run_eagerly = True)   \n",
    "\n",
    "model.fit(                                                               # fitting the whole model for non-trainable base\n",
    "    dataset_path,\n",
    "    epochs=1,)   \n",
    "\n"
   ]
  }
 ],
 "metadata": {
  "language_info": {
   "name": "python"
  },
  "orig_nbformat": 4
 },
 "nbformat": 4,
 "nbformat_minor": 2
}
