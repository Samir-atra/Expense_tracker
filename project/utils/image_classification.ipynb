{
  "cells": [
    {
      "cell_type": "markdown",
      "metadata": {
        "id": "view-in-github",
        "colab_type": "text"
      },
      "source": [
        "<a href=\"https://colab.research.google.com/github/Samir-atra/Expenses_tracker/blob/main/project/utils/image_classification.ipynb\" target=\"_parent\"><img src=\"https://colab.research.google.com/assets/colab-badge.svg\" alt=\"Open In Colab\"/></a>"
      ]
    },
    {
      "cell_type": "code",
      "execution_count": 1,
      "metadata": {
        "id": "B3c0hJAcG8IA"
      },
      "outputs": [],
      "source": [
        "import tensorflow as tf\n",
        "import matplotlib.pyplot as plt\n",
        "import os\n",
        "import pathlib\n",
        "import IPython\n",
        "import sys\n",
        "from sklearn.model_selection import train_test_split\n",
        "import cv2\n",
        "import numpy as np"
      ]
    },
    {
      "cell_type": "code",
      "execution_count": 2,
      "metadata": {
        "colab": {
          "base_uri": "https://localhost:8080/"
        },
        "id": "iyxy9EYKG8IB",
        "outputId": "d94f9112-004a-4e77-b342-27c47ae79d40"
      },
      "outputs": [
        {
          "output_type": "stream",
          "name": "stdout",
          "text": [
            "Mounted at /content/drive\n"
          ]
        }
      ],
      "source": [
        "from google.colab import drive\n",
        "drive.mount('/content/drive')"
      ]
    },
    {
      "cell_type": "code",
      "execution_count": 3,
      "metadata": {
        "id": "IzS-sApgG8IB",
        "outputId": "8f3bc429-d485-443d-9f4a-0df812722a37",
        "colab": {
          "base_uri": "https://localhost:8080/"
        }
      },
      "outputs": [
        {
          "output_type": "stream",
          "name": "stdout",
          "text": [
            "Found 4366 files belonging to 12 classes.\n",
            "Using 3493 files for training.\n"
          ]
        }
      ],
      "source": [
        "data_dir = pathlib.Path('/content/drive/MyDrive/expenses_tracker_classifier/Tobacco3482-jpg/')\n",
        "\n",
        "# def load_data(dir):\n",
        "#     img_data_array = []\n",
        "#     class_name = []\n",
        "#     class_num = 0\n",
        "#     class_dict = dict()\n",
        "\n",
        "#     for dir1 in os.listdir(dir):\n",
        "#         # print(\"this is dir1\", dir1)\n",
        "#         for filey in os.listdir(os.path.join(dir, dir1)):\n",
        "#             image_path = os.path.join(dir, dir1, filey)\n",
        "#             image = cv2.imread(image_path, cv2.COLOR_BGR2RGB)\n",
        "#             if image is None:\n",
        "#                 print(\"beedoo\")\n",
        "#                 continue\n",
        "#             image = cv2.resize(image, (300, 300))\n",
        "#             image = np.array(image)\n",
        "#             image = image.astype(\"float32\")\n",
        "#             # image /= 255\n",
        "#             if len(image.shape) < 3:\n",
        "#                 continue\n",
        "#             else:\n",
        "#                 img_data_array.append(image)\n",
        "#                 class_name.append(class_num)\n",
        "#         print(class_num, dir1)\n",
        "#         class_dict.update({class_num: dir1})\n",
        "#         class_num +=1\n",
        "\n",
        "#     return img_data_array, class_name, class_dict\n",
        "\n",
        "\n",
        "\n",
        "\n",
        "# Split data into training and testing sets\n",
        "# img_data_array, class_name, class_dict = load_data(data_dir)\n",
        "# labels = tf.keras.utils.to_categorical(class_name)\n",
        "# print(labels)\n",
        "# x_train, x_test, y_train, y_test = train_test_split(np.array(img_data_array), np.array(class_name), test_size=0.3)\n",
        "\n",
        "# data_path_test = pathlib.Path('/content/drive/MyDrive/archiveX3/Testing/')\n",
        "# AUTOTUNE=tf.data.AUTOTUNE\n",
        "\n",
        "dataset_path = tf.keras.utils.image_dataset_from_directory(        # Training dataset\n",
        "    data_dir,\n",
        "    labels= 'inferred',\n",
        "    validation_split=0.2,\n",
        "    subset='training',\n",
        "    seed= 1,\n",
        "    batch_size=5,\n",
        "    image_size=(300,300),\n",
        "    color_mode=\"rgb\",\n",
        "    shuffle=True)#.cache().prefetch(buffer_size=AUTOTUNE)\n",
        "\n",
        "# dataset_path_val = tf.keras.utils.image_dataset_from_directory(      #Validation dataset\n",
        "#     data_path,\n",
        "#     labels= 'inferred',\n",
        "#     validation_split=0.2,\n",
        "#     subset='validation',\n",
        "#     seed= 2,\n",
        "#     batch_size=5,\n",
        "#     image_size=(299, 299),\n",
        "#     color_mode=\"rgb\",\n",
        "#     shuffle=True)#.cache().prefetch(buffer_size=AUTOTUNE)"
      ]
    },
    {
      "cell_type": "code",
      "execution_count": 4,
      "metadata": {
        "id": "UrW9sFPBG8IB",
        "outputId": "38a42ea5-adfb-496f-946c-73e1ed58ab1b",
        "colab": {
          "base_uri": "https://localhost:8080/"
        }
      },
      "outputs": [
        {
          "output_type": "stream",
          "name": "stdout",
          "text": [
            "Downloading data from https://storage.googleapis.com/tensorflow/keras-applications/inception_v3/inception_v3_weights_tf_dim_ordering_tf_kernels_notop.h5\n",
            "87910968/87910968 [==============================] - 5s 0us/step\n"
          ]
        }
      ],
      "source": [
        "base_model = tf.keras.applications.inception_v3.InceptionV3(\n",
        "    input_shape = (300, 300, 3),\n",
        "    include_top = False,\n",
        "    weights = \"imagenet\"\n",
        ")"
      ]
    },
    {
      "cell_type": "code",
      "execution_count": 5,
      "metadata": {
        "colab": {
          "base_uri": "https://localhost:8080/"
        },
        "id": "m_eL5sLsG8IB",
        "outputId": "17076aba-bc8d-4016-9cf7-f170a11a7d80"
      },
      "outputs": [
        {
          "output_type": "stream",
          "name": "stderr",
          "text": [
            "/usr/local/lib/python3.10/dist-packages/keras/src/engine/training.py:3000: UserWarning: You are saving your model as an HDF5 file via `model.save()`. This file format is considered legacy. We recommend using instead the native Keras format, e.g. `model.save('my_model.keras')`.\n",
            "  saving_api.save_model(\n",
            "WARNING:tensorflow:Compiled the loaded model, but the compiled metrics have yet to be built. `model.compile_metrics` will be empty until you train or evaluate the model.\n"
          ]
        }
      ],
      "source": [
        "saving_path = pathlib.Path('/content/drive/MyDrive/expenses_tracker_classifier/expenses_tracker_classifier95%test.h5')\n",
        "\n",
        "base_model.save(saving_path)"
      ]
    },
    {
      "cell_type": "code",
      "execution_count": null,
      "metadata": {
        "id": "WeasOrdqG8IC",
        "outputId": "8df19bd5-9fe2-4c5a-c7be-2b3282628111",
        "colab": {
          "base_uri": "https://localhost:8080/"
        }
      },
      "outputs": [
        {
          "output_type": "stream",
          "name": "stderr",
          "text": [
            "WARNING:tensorflow:No training configuration found in the save file, so the model was *not* compiled. Compile it manually.\n"
          ]
        },
        {
          "output_type": "stream",
          "name": "stdout",
          "text": [
            "Epoch 1/30\n",
            "699/699 [==============================] - 1415s 2s/step - loss: 1.2797 - accuracy: 0.5843\n",
            "Epoch 2/30\n",
            "699/699 [==============================] - 287s 410ms/step - loss: 0.9043 - accuracy: 0.6983\n",
            "Epoch 3/30\n",
            "699/699 [==============================] - 290s 414ms/step - loss: 0.8212 - accuracy: 0.7275\n",
            "Epoch 4/30\n",
            "699/699 [==============================] - 297s 424ms/step - loss: 0.7841 - accuracy: 0.7369\n",
            "Epoch 5/30\n",
            "699/699 [==============================] - 298s 425ms/step - loss: 0.7347 - accuracy: 0.7501\n",
            "Epoch 6/30\n",
            "699/699 [==============================] - 297s 422ms/step - loss: 0.7013 - accuracy: 0.7647\n",
            "Epoch 7/30\n",
            "699/699 [==============================] - 298s 425ms/step - loss: 0.6897 - accuracy: 0.7630\n",
            "Epoch 8/30\n",
            "699/699 [==============================] - 299s 426ms/step - loss: 0.6716 - accuracy: 0.7750\n",
            "Epoch 9/30\n",
            "699/699 [==============================] - 292s 417ms/step - loss: 0.6507 - accuracy: 0.7761\n",
            "Epoch 10/30\n",
            "699/699 [==============================] - 307s 438ms/step - loss: 0.6466 - accuracy: 0.7764\n",
            "Epoch 11/30\n",
            "699/699 [==============================] - 288s 410ms/step - loss: 0.6434 - accuracy: 0.7761\n",
            "Epoch 12/30\n",
            "699/699 [==============================] - 291s 415ms/step - loss: 0.6222 - accuracy: 0.7861\n",
            "Epoch 13/30\n",
            "699/699 [==============================] - 292s 417ms/step - loss: 0.6198 - accuracy: 0.7833\n",
            "Epoch 14/30\n",
            "699/699 [==============================] - 285s 406ms/step - loss: 0.5969 - accuracy: 0.8022\n",
            "Epoch 15/30\n",
            "699/699 [==============================] - 291s 414ms/step - loss: 0.5963 - accuracy: 0.7930\n",
            "Epoch 16/30\n",
            "699/699 [==============================] - 291s 414ms/step - loss: 0.5937 - accuracy: 0.7965\n",
            "Epoch 17/30\n",
            "699/699 [==============================] - 292s 415ms/step - loss: 0.5604 - accuracy: 0.8027\n",
            "Epoch 18/30\n",
            "699/699 [==============================] - 289s 412ms/step - loss: 0.5708 - accuracy: 0.8096\n",
            "Epoch 19/30\n",
            "699/699 [==============================] - 287s 409ms/step - loss: 0.5634 - accuracy: 0.8122\n",
            "Epoch 20/30\n",
            " 18/699 [..............................] - ETA: 4:41 - loss: 0.6439 - accuracy: 0.7778"
          ]
        }
      ],
      "source": [
        "base_model = tf.keras.models.load_model(saving_path)                 #Loading base_model\n",
        "\n",
        "base_model.trainable = False                                        # Setting the model as non-trainable\n",
        "\n",
        "rescaling = tf.keras.Sequential([\n",
        "  tf.keras.layers.Rescaling(scale=1 / 127.5, offset=-1)             # Rescaling to (1, -1) range required for inceptionV3 model\n",
        "])\n",
        "augmentation = tf.keras.Sequential([                                # Applying augmentations o the images\n",
        "   tf.keras.layers.RandomFlip(\"horizontal\"),\n",
        "   tf.keras.layers.RandomRotation(0.1)\n",
        "])\n",
        "\n",
        "\n",
        "inputs = tf.keras.Input(shape=(300, 300, 3))\n",
        "x = augmentation(inputs)\n",
        "x = rescaling(x)\n",
        "x = base_model(x, training=False)\n",
        "x = tf.keras.layers.GlobalAveragePooling2D()(x)\n",
        "outputs = tf.keras.layers.Dense(12, activation='softmax')(x)                   # \"softmax\" in the final layer for decision making\n",
        "model = tf.keras.Model(inputs, outputs)\n",
        "\n",
        "\n",
        "model.compile(\n",
        "    optimizer = tf.keras.optimizers.Adam(learning_rate = 0.0005),        # compiling with low learning rate\n",
        "    loss=tf.losses.SparseCategoricalCrossentropy(),\n",
        "    metrics=['accuracy'],\n",
        "    run_eagerly = True)\n",
        "\n",
        "model.fit(                                                               # fitting the whole model for non-trainable base\n",
        "    dataset_path,\n",
        "    epochs=30,)\n",
        "\n",
        "# model.evaluate(\n",
        "#     x=x_test,\n",
        "#     y=y_test,)\n",
        "\n",
        "full_model_saving_path = pathlib.Path('/content/drive/MyDrive/expenses_tracker_classifier/expenses_tracker_model.h5')\n",
        "\n",
        "tf.keras.models.save_model(model,                                     # saving the fully trained model\n",
        "                           full_model_saving_path,\n",
        "                           overwrite=True,\n",
        "                           save_format='tf'\n",
        "                           )"
      ]
    },
    {
      "cell_type": "code",
      "source": [
        "full_model_saving_path = pathlib.Path('/content/drive/MyDrive/expenses_tracker_classifier/expenses_tracker_model_predictor.h5')\n",
        "loaded_model = tf.keras.models.load_model(full_model_saving_path, compile=True)\n",
        "pred_img_path = pathlib.Path('/content/drive/MyDrive/expenses_tracker_classifier/pred_imgs/')\n",
        "# imagess, labelss, _ = load_data(pred_img_path)\n",
        "\n",
        "\n",
        "loaded_model.compile(\n",
        "    optimizer = tf.keras.optimizers.Adam(learning_rate = 0.0005),        # compiling with low learning rate\n",
        "    loss=tf.losses.SparseCategoricalCrossentropy(from_logits= True),\n",
        "    metrics=['accuracy'],\n",
        "    run_eagerly = False)\n",
        "\n",
        "dataset_pathy = tf.keras.utils.image_dataset_from_directory(\n",
        "    pred_img_path,\n",
        "    labels= 'inferred',\n",
        "    seed= 1,\n",
        "    batch_size=1,\n",
        "    image_size=(300, 300),\n",
        "    color_mode=\"rgb\",\n",
        "    shuffle=False)\n",
        "\n",
        "\n",
        "# for image in imagess:\n",
        "# #   #  for i in range(1):\n",
        "# #       #  ax = plt.subplot(1, 1, i+1)\n",
        "#    plt.imshow(image.astype(\"uint8\"))\n",
        "# # #       #  plt.title(class_names[labels[i]])\n",
        "# # #       #  plt.axis(\"off\")\n",
        "#    plt.show()\n",
        "\n",
        "\n",
        "sample_list = []                                                        # creating a list of sample(s)\n",
        "for sample, labels in dataset_pathy:\n",
        "    sample_list.append(sample)\n",
        "    continue\n",
        "class_dict = {0:\"Report\",\n",
        "1:\"Letter\",\n",
        "2:\"Memo\",\n",
        "3:\"Email\",\n",
        "4:\"Note\",\n",
        "5:\"Scientific\",\n",
        "6:\"Form\",\n",
        "7:\"Resume\",\n",
        "8:\"ADVE\",\n",
        "9:\"News\",\n",
        "10:\"Receipts\",\n",
        "11:\"Empty_Papers\",}\n",
        "sample_list = np.array(sample_list)\n",
        "for sample in sample_list:\n",
        "    # print(sample.shape)\n",
        "    sample = tf.expand_dims(sample, axis=0)\n",
        "    predictions = loaded_model.predict(sample)\n",
        "    pred = np.argmax(predictions, axis=1)\n",
        "    print(class_dict.get(pred[0]))\n"
      ],
      "metadata": {
        "id": "YtpO0zf-U6FZ"
      },
      "execution_count": null,
      "outputs": []
    }
  ],
  "metadata": {
    "language_info": {
      "name": "python"
    },
    "orig_nbformat": 4,
    "colab": {
      "provenance": [],
      "gpuType": "T4",
      "include_colab_link": true
    },
    "accelerator": "GPU",
    "kernelspec": {
      "name": "python3",
      "display_name": "Python 3"
    }
  },
  "nbformat": 4,
  "nbformat_minor": 0
}