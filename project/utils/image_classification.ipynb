{
  "cells": [
    {
      "cell_type": "markdown",
      "metadata": {
        "id": "view-in-github",
        "colab_type": "text"
      },
      "source": [
        "<a href=\"https://colab.research.google.com/github/Samir-atra/Expenses_tracker/blob/main/project/utils/image_classification.ipynb\" target=\"_parent\"><img src=\"https://colab.research.google.com/assets/colab-badge.svg\" alt=\"Open In Colab\"/></a>"
      ]
    },
    {
      "cell_type": "code",
      "execution_count": 11,
      "metadata": {
        "id": "B3c0hJAcG8IA"
      },
      "outputs": [],
      "source": [
        "import tensorflow as tf\n",
        "import os\n",
        "import pathlib\n",
        "import IPython\n",
        "import sys\n",
        "from sklearn.model_selection import train_test_split\n",
        "import cv2\n",
        "import numpy as np"
      ]
    },
    {
      "cell_type": "code",
      "execution_count": 12,
      "metadata": {
        "id": "iyxy9EYKG8IB",
        "outputId": "4945dc49-af93-4f39-9ef3-4c2c1f64d911",
        "colab": {
          "base_uri": "https://localhost:8080/"
        }
      },
      "outputs": [
        {
          "output_type": "stream",
          "name": "stdout",
          "text": [
            "Drive already mounted at /content/drive; to attempt to forcibly remount, call drive.mount(\"/content/drive\", force_remount=True).\n"
          ]
        }
      ],
      "source": [
        "from google.colab import drive\n",
        "drive.mount('/content/drive')"
      ]
    },
    {
      "cell_type": "code",
      "execution_count": 13,
      "metadata": {
        "id": "IzS-sApgG8IB"
      },
      "outputs": [],
      "source": [
        "data_dir = pathlib.Path('/content/drive/MyDrive/expenses_tracker_classifier/Tobacco3482-jpg/')\n",
        "\n",
        "def load_data(datadir):\n",
        "    img_data_array = []\n",
        "    class_name = []\n",
        "    class_num = 0\n",
        "\n",
        "    for dir1 in os.listdir(data_dir):\n",
        "        for file in os.listdir(os.path.join(data_dir, dir1)):\n",
        "            image_path = os.path.join(data_dir, dir1, file)\n",
        "            image = cv2.imread(image_path, cv2.COLOR_BGR2RGB)\n",
        "            if image is None:\n",
        "                continue\n",
        "            image = cv2.resize(image, (300, 300))\n",
        "            image = np.array(image)\n",
        "            image = image.astype(\"float32\")\n",
        "            image /= 255\n",
        "            if len(image.shape) < 3:\n",
        "                continue\n",
        "            else:\n",
        "                img_data_array.append(image)\n",
        "                class_name.append(class_num)\n",
        "        class_num +=1\n",
        "    return (img_data_array, class_name)\n",
        "\n",
        "# Split data into training and testing sets\n",
        "img_data_array, class_name = load_data(data_dir)\n",
        "labels = tf.keras.utils.to_categorical(class_name)\n",
        "x_train, x_test, y_train, y_test = train_test_split(np.array(img_data_array), np.array(class_name), test_size=0.3)\n",
        "\n",
        "\n",
        "# data_path_test = pathlib.Path('/content/drive/MyDrive/archiveX3/Testing/')\n",
        "# AUTOTUNE=tf.data.AUTOTUNE\n",
        "\n",
        "# dataset_path = tf.keras.utils.image_dataset_from_directory(        # Training dataset\n",
        "#     data_path,\n",
        "#     labels= 'inferred',\n",
        "#     validation_split=0.2,\n",
        "#     subset='training',\n",
        "#     seed= 1,\n",
        "#     batch_size=5,\n",
        "#     image_size=(299, 299),\n",
        "#     color_mode=\"rgb\",\n",
        "#     shuffle=True)#.cache().prefetch(buffer_size=AUTOTUNE)\n",
        "\n",
        "# dataset_path_val = tf.keras.utils.image_dataset_from_directory(      #Validation dataset\n",
        "#     data_path,\n",
        "#     labels= 'inferred',\n",
        "#     validation_split=0.2,\n",
        "#     subset='validation',\n",
        "#     seed= 2,\n",
        "#     batch_size=5,\n",
        "#     image_size=(299, 299),\n",
        "#     color_mode=\"rgb\",\n",
        "#     shuffle=True)#.cache().prefetch(buffer_size=AUTOTUNE)"
      ]
    },
    {
      "cell_type": "code",
      "execution_count": 5,
      "metadata": {
        "id": "UrW9sFPBG8IB"
      },
      "outputs": [],
      "source": [
        "base_model = tf.keras.applications.inception_v3.InceptionV3(\n",
        "    input_shape = (300, 300, 3),\n",
        "    include_top = False,\n",
        "    weights = \"imagenet\"\n",
        ")"
      ]
    },
    {
      "cell_type": "code",
      "execution_count": 6,
      "metadata": {
        "id": "m_eL5sLsG8IB",
        "outputId": "7f429c9a-a0a0-41d2-f660-543f1079910f",
        "colab": {
          "base_uri": "https://localhost:8080/"
        }
      },
      "outputs": [
        {
          "output_type": "stream",
          "name": "stderr",
          "text": [
            "WARNING:tensorflow:Compiled the loaded model, but the compiled metrics have yet to be built. `model.compile_metrics` will be empty until you train or evaluate the model.\n"
          ]
        }
      ],
      "source": [
        "saving_path = pathlib.Path('/content/drive/MyDrive/expenses_tracker_classifier/expenses_tracker_classifier95%test.h5')\n",
        "\n",
        "base_model.save(saving_path)"
      ]
    },
    {
      "cell_type": "code",
      "execution_count": 10,
      "metadata": {
        "id": "WeasOrdqG8IC",
        "outputId": "1c0d6584-5ea7-4afe-823f-a4f68c41ed63",
        "colab": {
          "base_uri": "https://localhost:8080/"
        }
      },
      "outputs": [
        {
          "output_type": "stream",
          "name": "stderr",
          "text": [
            "WARNING:tensorflow:No training configuration found in the save file, so the model was *not* compiled. Compile it manually.\n"
          ]
        },
        {
          "output_type": "stream",
          "name": "stdout",
          "text": [
            "Epoch 1/30\n",
            "18/18 [==============================] - 10s 525ms/step - loss: 1.7579 - accuracy: 0.3752\n",
            "Epoch 2/30\n",
            "18/18 [==============================] - 10s 560ms/step - loss: 0.7946 - accuracy: 0.5260\n",
            "Epoch 3/30\n",
            "18/18 [==============================] - 9s 501ms/step - loss: 0.6745 - accuracy: 0.5943\n",
            "Epoch 4/30\n",
            "18/18 [==============================] - 10s 535ms/step - loss: 0.6160 - accuracy: 0.8169\n",
            "Epoch 5/30\n",
            "18/18 [==============================] - 10s 542ms/step - loss: 0.5693 - accuracy: 0.8007\n",
            "Epoch 6/30\n",
            "18/18 [==============================] - 10s 532ms/step - loss: 0.5344 - accuracy: 0.8797\n",
            "Epoch 7/30\n",
            "18/18 [==============================] - 10s 528ms/step - loss: 0.5053 - accuracy: 0.8671\n",
            "Epoch 8/30\n",
            "18/18 [==============================] - 10s 573ms/step - loss: 0.4777 - accuracy: 0.8725\n",
            "Epoch 9/30\n",
            "18/18 [==============================] - 11s 630ms/step - loss: 0.4561 - accuracy: 0.8851\n",
            "Epoch 10/30\n",
            "18/18 [==============================] - 9s 504ms/step - loss: 0.4307 - accuracy: 0.8905\n",
            "Epoch 11/30\n",
            "18/18 [==============================] - 10s 534ms/step - loss: 0.4172 - accuracy: 0.8833\n",
            "Epoch 12/30\n",
            "18/18 [==============================] - 10s 536ms/step - loss: 0.3990 - accuracy: 0.9066\n",
            "Epoch 13/30\n",
            "18/18 [==============================] - 9s 524ms/step - loss: 0.3757 - accuracy: 0.9013\n",
            "Epoch 14/30\n",
            "18/18 [==============================] - 9s 522ms/step - loss: 0.3626 - accuracy: 0.9102\n",
            "Epoch 15/30\n",
            "18/18 [==============================] - 10s 539ms/step - loss: 0.3556 - accuracy: 0.9192\n",
            "Epoch 16/30\n",
            "18/18 [==============================] - 10s 537ms/step - loss: 0.3505 - accuracy: 0.8923\n",
            "Epoch 17/30\n",
            "18/18 [==============================] - 9s 509ms/step - loss: 0.3368 - accuracy: 0.9084\n",
            "Epoch 18/30\n",
            "18/18 [==============================] - 10s 538ms/step - loss: 0.3226 - accuracy: 0.9120\n",
            "Epoch 19/30\n",
            "18/18 [==============================] - 10s 536ms/step - loss: 0.3155 - accuracy: 0.9048\n",
            "Epoch 20/30\n",
            "18/18 [==============================] - 9s 517ms/step - loss: 0.3179 - accuracy: 0.9031\n",
            "Epoch 21/30\n",
            "18/18 [==============================] - 9s 522ms/step - loss: 0.2975 - accuracy: 0.9174\n",
            "Epoch 22/30\n",
            "18/18 [==============================] - 10s 539ms/step - loss: 0.2839 - accuracy: 0.9300\n",
            "Epoch 23/30\n",
            "18/18 [==============================] - 10s 538ms/step - loss: 0.2876 - accuracy: 0.9210\n",
            "Epoch 24/30\n",
            "18/18 [==============================] - 9s 513ms/step - loss: 0.2779 - accuracy: 0.9210\n",
            "Epoch 25/30\n",
            "18/18 [==============================] - 10s 565ms/step - loss: 0.2710 - accuracy: 0.9282\n",
            "Epoch 26/30\n",
            "18/18 [==============================] - 10s 534ms/step - loss: 0.2671 - accuracy: 0.9192\n",
            "Epoch 27/30\n",
            "18/18 [==============================] - 10s 535ms/step - loss: 0.2592 - accuracy: 0.9318\n",
            "Epoch 28/30\n",
            "18/18 [==============================] - 9s 517ms/step - loss: 0.2497 - accuracy: 0.9354\n",
            "Epoch 29/30\n",
            "18/18 [==============================] - 10s 534ms/step - loss: 0.2478 - accuracy: 0.9210\n",
            "Epoch 30/30\n",
            "18/18 [==============================] - 10s 538ms/step - loss: 0.2542 - accuracy: 0.9300\n",
            "8/8 [==============================] - 3s 406ms/step - loss: 0.1978 - accuracy: 0.9542\n"
          ]
        },
        {
          "output_type": "execute_result",
          "data": {
            "text/plain": [
              "[0.1977546364068985, 0.9541666507720947]"
            ]
          },
          "metadata": {},
          "execution_count": 10
        }
      ],
      "source": [
        "model_path = pathlib.Path('/content/drive/MyDrive/expenses_tracker_classifier/expenses_tracker_classifier95%test.h5')\n",
        "\n",
        "base_model = tf.keras.models.load_model(model_path)                 #Loading base_model\n",
        "\n",
        "base_model.trainable = False                                        # Setting the model as non-trainable\n",
        "\n",
        "rescaling = tf.keras.Sequential([\n",
        "  tf.keras.layers.Rescaling(scale=1 / 127.5, offset=-1)             # Rescaling to (1, -1) range required for inceptionV3 model\n",
        "])\n",
        "augmentation = tf.keras.Sequential([                                # Applying augmentations o the images\n",
        "   tf.keras.layers.RandomFlip(\"horizontal\"),\n",
        "   tf.keras.layers.RandomRotation(0.1)\n",
        "])\n",
        "\n",
        "\n",
        "inputs = tf.keras.Input(shape=(300, 300, 3))\n",
        "x = augmentation(inputs)\n",
        "x = rescaling(x)\n",
        "x = base_model(x, training=False)\n",
        "x = tf.keras.layers.GlobalAveragePooling2D()(x)\n",
        "outputs = tf.keras.layers.Dense(12, activation='softmax')(x)                   # \"softmax\" in the final layer for decision making\n",
        "model = tf.keras.Model(inputs, outputs)\n",
        "\n",
        "\n",
        "model.compile(\n",
        "    optimizer = tf.keras.optimizers.Adam(learning_rate = 0.0005),        # compiling with low learning rate\n",
        "    loss=tf.losses.SparseCategoricalCrossentropy(),\n",
        "    metrics=['accuracy'],\n",
        "    run_eagerly = True)\n",
        "\n",
        "model.fit(                                                               # fitting the whole model for non-trainable base\n",
        "    x_train,\n",
        "    y_train,\n",
        "    epochs=30,)\n",
        "\n",
        "model.evaluate(\n",
        "    x=x_test,\n",
        "    y=y_test,)\n"
      ]
    },
    {
      "cell_type": "code",
      "source": [
        "loading_path = pathlib.Path('/content/drive/MyDrive/expenses_tracker_classifier/expenses_tracker_classifier95%test.h5')\n",
        "loaded_model = tf.keras.models.load_model(loading_path, compile=True)\n",
        "pred_img_path = pathlib.Path('/content/drive/MyDrive/expenses_tracker_classifier/pred_imgs/')\n",
        "\n",
        "model.compile(\n",
        "    optimizer = tf.keras.optimizers.Adam(learning_rate = 0.0005),        # compiling with low learning rate\n",
        "    loss=tf.losses.SparseCategoricalCrossentropy(),\n",
        "    metrics=['accuracy'],\n",
        "    run_eagerly = True)\n",
        "\n",
        "sample_list = []                                                        # creating a list of sample(s)\n",
        "image, label = load_data(pred_img_path)\n",
        "sample_list.append(image)\n",
        "\n",
        "sample_list = np.array(sample_list)                                     # converting the sample list to numpy array\n",
        "for sample in sample_list:\n",
        "    print(\"beedoo\")                                              # loop for predicting and showing result for sample image(s)\n",
        "    predictions = loaded_model.predict(sample)\n",
        "    pred = np.argmax(predictions, axis=1)\n",
        "    print(pred)"
      ],
      "metadata": {
        "id": "YtpO0zf-U6FZ",
        "outputId": "94e3e655-2bfe-46f6-9552-1d328245eae7",
        "colab": {
          "base_uri": "https://localhost:8080/"
        }
      },
      "execution_count": null,
      "outputs": [
        {
          "output_type": "stream",
          "name": "stderr",
          "text": [
            "WARNING:tensorflow:No training configuration found in the save file, so the model was *not* compiled. Compile it manually.\n"
          ]
        }
      ]
    }
  ],
  "metadata": {
    "language_info": {
      "name": "python"
    },
    "orig_nbformat": 4,
    "colab": {
      "provenance": [],
      "gpuType": "T4",
      "include_colab_link": true
    },
    "accelerator": "GPU",
    "kernelspec": {
      "name": "python3",
      "display_name": "Python 3"
    }
  },
  "nbformat": 4,
  "nbformat_minor": 0
}