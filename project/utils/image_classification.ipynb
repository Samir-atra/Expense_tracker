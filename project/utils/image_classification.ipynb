{
  "cells": [
    {
      "cell_type": "markdown",
      "metadata": {
        "colab_type": "text",
        "id": "view-in-github"
      },
      "source": [
        "<a href=\"https://colab.research.google.com/github/Samir-atra/Expenses_tracker/blob/main/project/utils/image_classification.ipynb\" target=\"_parent\"><img src=\"https://colab.research.google.com/assets/colab-badge.svg\" alt=\"Open In Colab\"/></a>"
      ]
    },
    {
      "cell_type": "code",
      "execution_count": 2,
      "metadata": {
        "id": "B3c0hJAcG8IA"
      },
      "outputs": [
        {
          "name": "stderr",
          "output_type": "stream",
          "text": [
            "2023-10-19 21:47:02.450617: I tensorflow/core/util/port.cc:111] oneDNN custom operations are on. You may see slightly different numerical results due to floating-point round-off errors from different computation orders. To turn them off, set the environment variable `TF_ENABLE_ONEDNN_OPTS=0`.\n",
            "2023-10-19 21:47:02.601111: E tensorflow/compiler/xla/stream_executor/cuda/cuda_dnn.cc:9342] Unable to register cuDNN factory: Attempting to register factory for plugin cuDNN when one has already been registered\n",
            "2023-10-19 21:47:02.601138: E tensorflow/compiler/xla/stream_executor/cuda/cuda_fft.cc:609] Unable to register cuFFT factory: Attempting to register factory for plugin cuFFT when one has already been registered\n",
            "2023-10-19 21:47:02.601753: E tensorflow/compiler/xla/stream_executor/cuda/cuda_blas.cc:1518] Unable to register cuBLAS factory: Attempting to register factory for plugin cuBLAS when one has already been registered\n",
            "2023-10-19 21:47:02.668702: I tensorflow/core/platform/cpu_feature_guard.cc:182] This TensorFlow binary is optimized to use available CPU instructions in performance-critical operations.\n",
            "To enable the following instructions: AVX2 AVX_VNNI FMA, in other operations, rebuild TensorFlow with the appropriate compiler flags.\n"
          ]
        }
      ],
      "source": [
        "#imports\n",
        "\n",
        "import tensorflow as tf\n",
        "import pathlib\n",
        "import IPython\n",
        "import numpy as np"
      ]
    },
    {
      "cell_type": "code",
      "execution_count": null,
      "metadata": {
        "colab": {
          "base_uri": "https://localhost:8080/"
        },
        "id": "iyxy9EYKG8IB",
        "outputId": "bef9cd60-52d3-481b-a290-67446652b182"
      },
      "outputs": [],
      "source": [
        "# from google.colab import drive\n",
        "# drive.mount('/content/drive')"
      ]
    },
    {
      "cell_type": "code",
      "execution_count": 10,
      "metadata": {
        "colab": {
          "base_uri": "https://localhost:8080/"
        },
        "id": "IzS-sApgG8IB",
        "outputId": "5d4b3238-6b84-4e56-c5b4-65c58f79639e"
      },
      "outputs": [
        {
          "name": "stdout",
          "output_type": "stream",
          "text": [
            "Found 4368 files belonging to 12 classes.\n",
            "<_PrefetchDataset element_spec=(TensorSpec(shape=(None, 300, 300, 3), dtype=tf.float32, name=None), TensorSpec(shape=(None,), dtype=tf.int32, name=None))>\n"
          ]
        }
      ],
      "source": [
        "# load the data\n",
        "\n",
        "data_dir = pathlib.Path('/home/samer/Desktop/Tobacco3482-jpg/')\n",
        "\n",
        "\n",
        "dataset_path = tf.keras.utils.image_dataset_from_directory(        # Training dataset\n",
        "    data_dir,\n",
        "    labels= 'inferred',\n",
        "    # validation_split=0.2,\n",
        "    # subset='training',\n",
        "    seed= 1,\n",
        "    batch_size=5,\n",
        "    image_size=(300,300),\n",
        "    color_mode=\"rgb\",\n",
        "    shuffle=True)#.cache().prefetch(buffer_size=AUTOTUNE)\n",
        "\n",
        "# dataset_path_val = tf.keras.utils.image_dataset_from_directory(      #Validation dataset\n",
        "#     data_path,\n",
        "#     labels= 'inferred',\n",
        "#     validation_split=0.2,\n",
        "#     subset='validation',\n",
        "#     seed= 2,\n",
        "#     batch_size=5,\n",
        "#     image_size=(299, 299),\n",
        "#     color_mode=\"rgb\",\n",
        "#     shuffle=True)#.cache().prefetch(buffer_size=AUTOTUNE)"
      ]
    },
    {
      "cell_type": "code",
      "execution_count": 3,
      "metadata": {
        "id": "UrW9sFPBG8IB"
      },
      "outputs": [],
      "source": [
        "# download the transfer learning pre-trained model\n",
        "\n",
        "base_model = tf.keras.applications.inception_v3.InceptionV3(\n",
        "    input_shape = (300, 300, 3),\n",
        "    include_top = False,\n",
        "    weights = \"imagenet\"\n",
        ")"
      ]
    },
    {
      "cell_type": "code",
      "execution_count": 4,
      "metadata": {
        "colab": {
          "base_uri": "https://localhost:8080/"
        },
        "id": "m_eL5sLsG8IB",
        "outputId": "f8a17d4a-d6c3-430e-d500-38f20292b89c"
      },
      "outputs": [
        {
          "name": "stdout",
          "output_type": "stream",
          "text": [
            "WARNING:tensorflow:Compiled the loaded model, but the compiled metrics have yet to be built. `model.compile_metrics` will be empty until you train or evaluate the model.\n"
          ]
        },
        {
          "name": "stderr",
          "output_type": "stream",
          "text": [
            "/home/samer/anaconda3/envs/tensorflow/lib/python3.9/site-packages/keras/src/engine/training.py:3079: UserWarning: You are saving your model as an HDF5 file via `model.save()`. This file format is considered legacy. We recommend using instead the native Keras format, e.g. `model.save('my_model.keras')`.\n",
            "  saving_api.save_model(\n"
          ]
        }
      ],
      "source": [
        "# save the pre-trained model\n",
        "saving_path = pathlib.Path('/home/samer/Desktop/Beedoo/Expenses_tracker_stuff/expenses_tracker_classifier95%test.h5')\n",
        "\n",
        "base_model.save(saving_path)"
      ]
    },
    {
      "cell_type": "code",
      "execution_count": 5,
      "metadata": {
        "colab": {
          "base_uri": "https://localhost:8080/"
        },
        "id": "WeasOrdqG8IC",
        "outputId": "507d2ae4-bf4a-4590-cf5c-9b94c05f9d96"
      },
      "outputs": [
        {
          "name": "stdout",
          "output_type": "stream",
          "text": [
            "WARNING:tensorflow:No training configuration found in the save file, so the model was *not* compiled. Compile it manually.\n",
            "Epoch 1/20\n"
          ]
        },
        {
          "name": "stderr",
          "output_type": "stream",
          "text": [
            "2023-10-18 17:27:35.094331: I tensorflow/compiler/xla/stream_executor/cuda/cuda_dnn.cc:442] Loaded cuDNN version 8700\n",
            "2023-10-18 17:27:39.287680: W tensorflow/tsl/framework/bfc_allocator.cc:296] Allocator (GPU_0_bfc) ran out of memory trying to allocate 1.85GiB with freed_by_count=0. The caller indicates that this is not a failure, but this may mean that there could be performance gains if more memory were available.\n",
            "2023-10-18 17:27:39.287750: W tensorflow/tsl/framework/bfc_allocator.cc:296] Allocator (GPU_0_bfc) ran out of memory trying to allocate 3.64GiB with freed_by_count=0. The caller indicates that this is not a failure, but this may mean that there could be performance gains if more memory were available.\n",
            "2023-10-18 17:27:40.053089: W tensorflow/tsl/framework/bfc_allocator.cc:296] Allocator (GPU_0_bfc) ran out of memory trying to allocate 2.07GiB with freed_by_count=0. The caller indicates that this is not a failure, but this may mean that there could be performance gains if more memory were available.\n",
            "2023-10-18 17:27:41.033849: I tensorflow/compiler/xla/service/service.cc:168] XLA service 0x1e536c10 initialized for platform CUDA (this does not guarantee that XLA will be used). Devices:\n",
            "2023-10-18 17:27:41.033868: I tensorflow/compiler/xla/service/service.cc:176]   StreamExecutor device (0): NVIDIA GeForce RTX 3050 Laptop GPU, Compute Capability 8.6\n",
            "2023-10-18 17:27:41.042109: I tensorflow/compiler/mlir/tensorflow/utils/dump_mlir_util.cc:269] disabling MLIR crash reproducer, set env var `MLIR_CRASH_REPRODUCER_DIRECTORY` to enable.\n",
            "2023-10-18 17:27:41.123369: I ./tensorflow/compiler/jit/device_compiler.h:186] Compiled cluster using XLA!  This line is logged at most once for the lifetime of the process.\n"
          ]
        },
        {
          "name": "stdout",
          "output_type": "stream",
          "text": [
            "209/875 [======>.......................] - ETA: 1:33 - loss: 1.6420 - accuracy: 0.4727"
          ]
        },
        {
          "name": "stderr",
          "output_type": "stream",
          "text": [
            "2023-10-18 17:28:10.384975: W tensorflow/core/lib/png/png_io.cc:88] PNG warning: iCCP: known incorrect sRGB profile\n"
          ]
        },
        {
          "name": "stdout",
          "output_type": "stream",
          "text": [
            "801/875 [==========================>...] - ETA: 10s - loss: 1.1664 - accuracy: 0.6155"
          ]
        },
        {
          "name": "stderr",
          "output_type": "stream",
          "text": [
            "2023-10-18 17:29:38.146784: W tensorflow/core/lib/png/png_io.cc:88] PNG warning: iCCP: known incorrect sRGB profile\n"
          ]
        },
        {
          "name": "stdout",
          "output_type": "stream",
          "text": [
            "875/875 [==============================] - 141s 154ms/step - loss: 1.1442 - accuracy: 0.6199\n",
            "Epoch 2/20\n",
            "209/875 [======>.......................] - ETA: 2:10 - loss: 0.8893 - accuracy: 0.6976"
          ]
        },
        {
          "name": "stderr",
          "output_type": "stream",
          "text": [
            "2023-10-18 17:30:37.130048: W tensorflow/core/lib/png/png_io.cc:88] PNG warning: iCCP: known incorrect sRGB profile\n"
          ]
        },
        {
          "name": "stdout",
          "output_type": "stream",
          "text": [
            "801/875 [==========================>...] - ETA: 13s - loss: 0.8052 - accuracy: 0.7268"
          ]
        },
        {
          "name": "stderr",
          "output_type": "stream",
          "text": [
            "2023-10-18 17:32:22.151198: W tensorflow/core/lib/png/png_io.cc:88] PNG warning: iCCP: known incorrect sRGB profile\n"
          ]
        },
        {
          "name": "stdout",
          "output_type": "stream",
          "text": [
            "875/875 [==============================] - 159s 181ms/step - loss: 0.8032 - accuracy: 0.7260\n",
            "Epoch 3/20\n",
            "209/875 [======>.......................] - ETA: 1:55 - loss: 0.7557 - accuracy: 0.7522"
          ]
        },
        {
          "name": "stderr",
          "output_type": "stream",
          "text": [
            "2023-10-18 17:33:11.343311: W tensorflow/core/lib/png/png_io.cc:88] PNG warning: iCCP: known incorrect sRGB profile\n"
          ]
        },
        {
          "name": "stdout",
          "output_type": "stream",
          "text": [
            "801/875 [==========================>...] - ETA: 12s - loss: 0.7122 - accuracy: 0.7638"
          ]
        },
        {
          "name": "stderr",
          "output_type": "stream",
          "text": [
            "2023-10-18 17:34:52.336120: W tensorflow/core/lib/png/png_io.cc:88] PNG warning: iCCP: known incorrect sRGB profile\n"
          ]
        },
        {
          "name": "stdout",
          "output_type": "stream",
          "text": [
            "875/875 [==============================] - 150s 171ms/step - loss: 0.7102 - accuracy: 0.7633\n",
            "Epoch 4/20\n",
            "208/875 [======>.......................] - ETA: 2:06 - loss: 0.6815 - accuracy: 0.7731"
          ]
        },
        {
          "name": "stderr",
          "output_type": "stream",
          "text": [
            "2023-10-18 17:35:44.608535: W tensorflow/core/lib/png/png_io.cc:88] PNG warning: iCCP: known incorrect sRGB profile\n"
          ]
        },
        {
          "name": "stdout",
          "output_type": "stream",
          "text": [
            "801/875 [==========================>...] - ETA: 13s - loss: 0.6501 - accuracy: 0.7803"
          ]
        },
        {
          "name": "stderr",
          "output_type": "stream",
          "text": [
            "2023-10-18 17:37:34.849250: W tensorflow/core/lib/png/png_io.cc:88] PNG warning: iCCP: known incorrect sRGB profile\n"
          ]
        },
        {
          "name": "stdout",
          "output_type": "stream",
          "text": [
            "875/875 [==============================] - 163s 186ms/step - loss: 0.6507 - accuracy: 0.7797\n",
            "Epoch 5/20\n",
            "209/875 [======>.......................] - ETA: 1:52 - loss: 0.6353 - accuracy: 0.7847"
          ]
        },
        {
          "name": "stderr",
          "output_type": "stream",
          "text": [
            "2023-10-18 17:38:23.786922: W tensorflow/core/lib/png/png_io.cc:88] PNG warning: iCCP: known incorrect sRGB profile\n"
          ]
        },
        {
          "name": "stdout",
          "output_type": "stream",
          "text": [
            "801/875 [==========================>...] - ETA: 12s - loss: 0.6090 - accuracy: 0.7958"
          ]
        },
        {
          "name": "stderr",
          "output_type": "stream",
          "text": [
            "2023-10-18 17:40:01.088389: W tensorflow/core/lib/png/png_io.cc:88] PNG warning: iCCP: known incorrect sRGB profile\n"
          ]
        },
        {
          "name": "stdout",
          "output_type": "stream",
          "text": [
            "875/875 [==============================] - 145s 166ms/step - loss: 0.6098 - accuracy: 0.7951\n",
            "Epoch 6/20\n",
            "209/875 [======>.......................] - ETA: 1:53 - loss: 0.5997 - accuracy: 0.7990"
          ]
        },
        {
          "name": "stderr",
          "output_type": "stream",
          "text": [
            "2023-10-18 17:40:49.306983: W tensorflow/core/lib/png/png_io.cc:88] PNG warning: iCCP: known incorrect sRGB profile\n"
          ]
        },
        {
          "name": "stdout",
          "output_type": "stream",
          "text": [
            "801/875 [==========================>...] - ETA: 13s - loss: 0.5786 - accuracy: 0.8035"
          ]
        },
        {
          "name": "stderr",
          "output_type": "stream",
          "text": [
            "2023-10-18 17:42:35.286106: W tensorflow/core/lib/png/png_io.cc:88] PNG warning: iCCP: known incorrect sRGB profile\n"
          ]
        },
        {
          "name": "stdout",
          "output_type": "stream",
          "text": [
            "875/875 [==============================] - 157s 179ms/step - loss: 0.5810 - accuracy: 0.8026\n",
            "Epoch 7/20\n",
            "209/875 [======>.......................] - ETA: 2:07 - loss: 0.5740 - accuracy: 0.8077"
          ]
        },
        {
          "name": "stderr",
          "output_type": "stream",
          "text": [
            "2023-10-18 17:43:30.497306: W tensorflow/core/lib/png/png_io.cc:88] PNG warning: iCCP: known incorrect sRGB profile\n"
          ]
        },
        {
          "name": "stdout",
          "output_type": "stream",
          "text": [
            "801/875 [==========================>...] - ETA: 13s - loss: 0.5473 - accuracy: 0.8182"
          ]
        },
        {
          "name": "stderr",
          "output_type": "stream",
          "text": [
            "2023-10-18 17:45:20.282759: W tensorflow/core/lib/png/png_io.cc:88] PNG warning: iCCP: known incorrect sRGB profile\n"
          ]
        },
        {
          "name": "stdout",
          "output_type": "stream",
          "text": [
            "875/875 [==============================] - 163s 186ms/step - loss: 0.5498 - accuracy: 0.8168\n",
            "Epoch 8/20\n",
            "209/875 [======>.......................] - ETA: 1:53 - loss: 0.5527 - accuracy: 0.8134"
          ]
        },
        {
          "name": "stderr",
          "output_type": "stream",
          "text": [
            "2023-10-18 17:46:08.643284: W tensorflow/core/lib/png/png_io.cc:88] PNG warning: iCCP: known incorrect sRGB profile\n"
          ]
        },
        {
          "name": "stdout",
          "output_type": "stream",
          "text": [
            "800/875 [==========================>...] - ETA: 12s - loss: 0.5251 - accuracy: 0.8265"
          ]
        },
        {
          "name": "stderr",
          "output_type": "stream",
          "text": [
            "2023-10-18 17:47:48.301267: W tensorflow/core/lib/png/png_io.cc:88] PNG warning: iCCP: known incorrect sRGB profile\n"
          ]
        },
        {
          "name": "stdout",
          "output_type": "stream",
          "text": [
            "875/875 [==============================] - 149s 170ms/step - loss: 0.5268 - accuracy: 0.8248\n",
            "Epoch 9/20\n",
            "209/875 [======>.......................] - ETA: 1:55 - loss: 0.5276 - accuracy: 0.8239"
          ]
        },
        {
          "name": "stderr",
          "output_type": "stream",
          "text": [
            "2023-10-18 17:48:38.469723: W tensorflow/core/lib/png/png_io.cc:88] PNG warning: iCCP: known incorrect sRGB profile\n"
          ]
        },
        {
          "name": "stdout",
          "output_type": "stream",
          "text": [
            "801/875 [==========================>...] - ETA: 12s - loss: 0.5025 - accuracy: 0.8345"
          ]
        },
        {
          "name": "stderr",
          "output_type": "stream",
          "text": [
            "2023-10-18 17:50:19.827980: W tensorflow/core/lib/png/png_io.cc:88] PNG warning: iCCP: known incorrect sRGB profile\n"
          ]
        },
        {
          "name": "stdout",
          "output_type": "stream",
          "text": [
            "875/875 [==============================] - 151s 172ms/step - loss: 0.5058 - accuracy: 0.8323\n",
            "Epoch 10/20\n",
            "209/875 [======>.......................] - ETA: 1:56 - loss: 0.5048 - accuracy: 0.8344"
          ]
        },
        {
          "name": "stderr",
          "output_type": "stream",
          "text": [
            "2023-10-18 17:51:09.245529: W tensorflow/core/lib/png/png_io.cc:88] PNG warning: iCCP: known incorrect sRGB profile\n"
          ]
        },
        {
          "name": "stdout",
          "output_type": "stream",
          "text": [
            "801/875 [==========================>...] - ETA: 12s - loss: 0.4874 - accuracy: 0.8397"
          ]
        },
        {
          "name": "stderr",
          "output_type": "stream",
          "text": [
            "2023-10-18 17:52:51.649699: W tensorflow/core/lib/png/png_io.cc:88] PNG warning: iCCP: known incorrect sRGB profile\n"
          ]
        },
        {
          "name": "stdout",
          "output_type": "stream",
          "text": [
            "875/875 [==============================] - 152s 174ms/step - loss: 0.4887 - accuracy: 0.8394\n",
            "Epoch 11/20\n",
            "209/875 [======>.......................] - ETA: 1:55 - loss: 0.4923 - accuracy: 0.8440"
          ]
        },
        {
          "name": "stderr",
          "output_type": "stream",
          "text": [
            "2023-10-18 17:53:41.155765: W tensorflow/core/lib/png/png_io.cc:88] PNG warning: iCCP: known incorrect sRGB profile\n"
          ]
        },
        {
          "name": "stdout",
          "output_type": "stream",
          "text": [
            "801/875 [==========================>...] - ETA: 12s - loss: 0.4722 - accuracy: 0.8482"
          ]
        },
        {
          "name": "stderr",
          "output_type": "stream",
          "text": [
            "2023-10-18 17:55:21.403942: W tensorflow/core/lib/png/png_io.cc:88] PNG warning: iCCP: known incorrect sRGB profile\n"
          ]
        },
        {
          "name": "stdout",
          "output_type": "stream",
          "text": [
            "875/875 [==============================] - 149s 170ms/step - loss: 0.4732 - accuracy: 0.8470\n",
            "Epoch 12/20\n",
            "209/875 [======>.......................] - ETA: 1:52 - loss: 0.4724 - accuracy: 0.8411"
          ]
        },
        {
          "name": "stderr",
          "output_type": "stream",
          "text": [
            "2023-10-18 17:56:09.519429: W tensorflow/core/lib/png/png_io.cc:88] PNG warning: iCCP: known incorrect sRGB profile\n"
          ]
        },
        {
          "name": "stdout",
          "output_type": "stream",
          "text": [
            "801/875 [==========================>...] - ETA: 12s - loss: 0.4546 - accuracy: 0.8484"
          ]
        },
        {
          "name": "stderr",
          "output_type": "stream",
          "text": [
            "2023-10-18 17:57:48.536533: W tensorflow/core/lib/png/png_io.cc:88] PNG warning: iCCP: known incorrect sRGB profile\n"
          ]
        },
        {
          "name": "stdout",
          "output_type": "stream",
          "text": [
            "875/875 [==============================] - 147s 168ms/step - loss: 0.4556 - accuracy: 0.8477\n",
            "Epoch 13/20\n",
            "209/875 [======>.......................] - ETA: 1:57 - loss: 0.4687 - accuracy: 0.8459"
          ]
        },
        {
          "name": "stderr",
          "output_type": "stream",
          "text": [
            "2023-10-18 17:58:38.432440: W tensorflow/core/lib/png/png_io.cc:88] PNG warning: iCCP: known incorrect sRGB profile\n"
          ]
        },
        {
          "name": "stdout",
          "output_type": "stream",
          "text": [
            "801/875 [==========================>...] - ETA: 12s - loss: 0.4388 - accuracy: 0.8569"
          ]
        },
        {
          "name": "stderr",
          "output_type": "stream",
          "text": [
            "2023-10-18 18:00:19.462102: W tensorflow/core/lib/png/png_io.cc:88] PNG warning: iCCP: known incorrect sRGB profile\n"
          ]
        },
        {
          "name": "stdout",
          "output_type": "stream",
          "text": [
            "875/875 [==============================] - 151s 172ms/step - loss: 0.4414 - accuracy: 0.8557\n",
            "Epoch 14/20\n",
            "209/875 [======>.......................] - ETA: 1:54 - loss: 0.4551 - accuracy: 0.8526"
          ]
        },
        {
          "name": "stderr",
          "output_type": "stream",
          "text": [
            "2023-10-18 18:01:08.354795: W tensorflow/core/lib/png/png_io.cc:88] PNG warning: iCCP: known incorrect sRGB profile\n"
          ]
        },
        {
          "name": "stdout",
          "output_type": "stream",
          "text": [
            "801/875 [==========================>...] - ETA: 12s - loss: 0.4296 - accuracy: 0.8557"
          ]
        },
        {
          "name": "stderr",
          "output_type": "stream",
          "text": [
            "2023-10-18 18:02:48.994469: W tensorflow/core/lib/png/png_io.cc:88] PNG warning: iCCP: known incorrect sRGB profile\n"
          ]
        },
        {
          "name": "stdout",
          "output_type": "stream",
          "text": [
            "875/875 [==============================] - 149s 170ms/step - loss: 0.4319 - accuracy: 0.8554\n",
            "Epoch 15/20\n",
            "209/875 [======>.......................] - ETA: 1:51 - loss: 0.4333 - accuracy: 0.8565"
          ]
        },
        {
          "name": "stderr",
          "output_type": "stream",
          "text": [
            "2023-10-18 18:03:36.500855: W tensorflow/core/lib/png/png_io.cc:88] PNG warning: iCCP: known incorrect sRGB profile\n"
          ]
        },
        {
          "name": "stdout",
          "output_type": "stream",
          "text": [
            "801/875 [==========================>...] - ETA: 12s - loss: 0.4177 - accuracy: 0.8582"
          ]
        },
        {
          "name": "stderr",
          "output_type": "stream",
          "text": [
            "2023-10-18 18:05:16.595152: W tensorflow/core/lib/png/png_io.cc:88] PNG warning: iCCP: known incorrect sRGB profile\n"
          ]
        },
        {
          "name": "stdout",
          "output_type": "stream",
          "text": [
            "875/875 [==============================] - 148s 169ms/step - loss: 0.4193 - accuracy: 0.8582\n",
            "Epoch 16/20\n",
            "209/875 [======>.......................] - ETA: 1:54 - loss: 0.4324 - accuracy: 0.8584"
          ]
        },
        {
          "name": "stderr",
          "output_type": "stream",
          "text": [
            "2023-10-18 18:06:05.534098: W tensorflow/core/lib/png/png_io.cc:88] PNG warning: iCCP: known incorrect sRGB profile\n"
          ]
        },
        {
          "name": "stdout",
          "output_type": "stream",
          "text": [
            "801/875 [==========================>...] - ETA: 12s - loss: 0.4073 - accuracy: 0.8602"
          ]
        },
        {
          "name": "stderr",
          "output_type": "stream",
          "text": [
            "2023-10-18 18:07:46.219990: W tensorflow/core/lib/png/png_io.cc:88] PNG warning: iCCP: known incorrect sRGB profile\n"
          ]
        },
        {
          "name": "stdout",
          "output_type": "stream",
          "text": [
            "875/875 [==============================] - 150s 171ms/step - loss: 0.4080 - accuracy: 0.8602\n",
            "Epoch 17/20\n",
            "209/875 [======>.......................] - ETA: 1:53 - loss: 0.4099 - accuracy: 0.8679"
          ]
        },
        {
          "name": "stderr",
          "output_type": "stream",
          "text": [
            "2023-10-18 18:08:34.862840: W tensorflow/core/lib/png/png_io.cc:88] PNG warning: iCCP: known incorrect sRGB profile\n"
          ]
        },
        {
          "name": "stdout",
          "output_type": "stream",
          "text": [
            "801/875 [==========================>...] - ETA: 12s - loss: 0.3927 - accuracy: 0.8707"
          ]
        },
        {
          "name": "stderr",
          "output_type": "stream",
          "text": [
            "2023-10-18 18:10:14.256998: W tensorflow/core/lib/png/png_io.cc:88] PNG warning: iCCP: known incorrect sRGB profile\n"
          ]
        },
        {
          "name": "stdout",
          "output_type": "stream",
          "text": [
            "875/875 [==============================] - 147s 168ms/step - loss: 0.3954 - accuracy: 0.8701\n",
            "Epoch 18/20\n",
            "209/875 [======>.......................] - ETA: 1:50 - loss: 0.4137 - accuracy: 0.8603"
          ]
        },
        {
          "name": "stderr",
          "output_type": "stream",
          "text": [
            "2023-10-18 18:11:01.352944: W tensorflow/core/lib/png/png_io.cc:88] PNG warning: iCCP: known incorrect sRGB profile\n"
          ]
        },
        {
          "name": "stdout",
          "output_type": "stream",
          "text": [
            "801/875 [==========================>...] - ETA: 12s - loss: 0.3844 - accuracy: 0.8764"
          ]
        },
        {
          "name": "stderr",
          "output_type": "stream",
          "text": [
            "2023-10-18 18:12:47.350021: W tensorflow/core/lib/png/png_io.cc:88] PNG warning: iCCP: known incorrect sRGB profile\n"
          ]
        },
        {
          "name": "stdout",
          "output_type": "stream",
          "text": [
            "875/875 [==============================] - 154s 175ms/step - loss: 0.3864 - accuracy: 0.8760\n",
            "Epoch 19/20\n",
            "209/875 [======>.......................] - ETA: 1:59 - loss: 0.3972 - accuracy: 0.8670"
          ]
        },
        {
          "name": "stderr",
          "output_type": "stream",
          "text": [
            "2023-10-18 18:13:37.912838: W tensorflow/core/lib/png/png_io.cc:88] PNG warning: iCCP: known incorrect sRGB profile\n"
          ]
        },
        {
          "name": "stdout",
          "output_type": "stream",
          "text": [
            "801/875 [==========================>...] - ETA: 12s - loss: 0.3777 - accuracy: 0.8724"
          ]
        },
        {
          "name": "stderr",
          "output_type": "stream",
          "text": [
            "2023-10-18 18:15:20.622943: W tensorflow/core/lib/png/png_io.cc:88] PNG warning: iCCP: known incorrect sRGB profile\n"
          ]
        },
        {
          "name": "stdout",
          "output_type": "stream",
          "text": [
            "875/875 [==============================] - 155s 177ms/step - loss: 0.3794 - accuracy: 0.8715\n",
            "Epoch 20/20\n",
            "208/875 [======>.......................] - ETA: 2:15 - loss: 0.3810 - accuracy: 0.8731"
          ]
        },
        {
          "name": "stderr",
          "output_type": "stream",
          "text": [
            "2023-10-18 18:16:17.826308: W tensorflow/core/lib/png/png_io.cc:88] PNG warning: iCCP: known incorrect sRGB profile\n"
          ]
        },
        {
          "name": "stdout",
          "output_type": "stream",
          "text": [
            "801/875 [==========================>...] - ETA: 14s - loss: 0.3652 - accuracy: 0.8794"
          ]
        },
        {
          "name": "stderr",
          "output_type": "stream",
          "text": [
            "2023-10-18 18:18:13.821199: W tensorflow/core/lib/png/png_io.cc:88] PNG warning: iCCP: known incorrect sRGB profile\n"
          ]
        },
        {
          "name": "stdout",
          "output_type": "stream",
          "text": [
            "875/875 [==============================] - 173s 198ms/step - loss: 0.3664 - accuracy: 0.8795\n"
          ]
        }
      ],
      "source": [
        "# load the pre-trained model, build the training model and train it.\n",
        "\n",
        "base_model = tf.keras.models.load_model(saving_path)                 #Loading base_model\n",
        "\n",
        "base_model.trainable = False                                        # Setting the model as non-trainable\n",
        "\n",
        "rescaling = tf.keras.Sequential([\n",
        "    tf.keras.layers.Rescaling(scale=1 / 127.5, offset=-1)             # Rescaling to (1, -1) range required for inceptionV3 model\n",
        "])\n",
        "augmentation = tf.keras.Sequential([                                # Applying augmentations o the images\n",
        "    tf.keras.layers.RandomFlip(\"horizontal\"),\n",
        "    tf.keras.layers.RandomRotation(0.1)\n",
        "])\n",
        "\n",
        "\n",
        "inputs = tf.keras.Input(shape=(300, 300, 3))\n",
        "# x = augmentation(inputs)\n",
        "x = rescaling(inputs)\n",
        "x = base_model(x, training=False)\n",
        "x = tf.keras.layers.GlobalAveragePooling2D()(x)\n",
        "outputs = tf.keras.layers.Dense(12, activation='softmax')(x)                   # \"softmax\" in the final layer for decision making\n",
        "model = tf.keras.Model(inputs, outputs)\n",
        "\n",
        "\n",
        "model.compile(\n",
        "    optimizer = tf.keras.optimizers.Adam(learning_rate = 0.0005),        # compiling with low learning rate\n",
        "    loss=tf.losses.SparseCategoricalCrossentropy(),\n",
        "    metrics=['accuracy'],\n",
        "    run_eagerly = True)\n",
        "\n",
        "checkpoint_filepath = '/home/samer/Desktop/Beedoo/Expenses_tracker_stuff/checkpoint/'\n",
        "model_checkpoint_callback = tf.keras.callbacks.ModelCheckpoint(\n",
        "    filepath=checkpoint_filepath,\n",
        "    save_weights_only=True,\n",
        "    monitor='accuracy',\n",
        "    mode='max',\n",
        "    save_best_only=True)\n",
        "\n",
        "model.fit(                                                               # fitting the whole model for non-trainable base\n",
        "    dataset_path,\n",
        "    epochs=20,\n",
        "    callbacks=[model_checkpoint_callback])\n",
        "\n",
        "\n",
        "# model.load_weights(checkpoint_filepath)\n",
        "# model.evaluate(\n",
        "#     x=x_test,\n",
        "#     y=y_test,)\n",
        "\n",
        "full_model_saving_path = pathlib.Path('/home/samer/Desktop/Beedoo/Expenses_tracker_stuff/expenses_tracker_model.h5')\n",
        "\n",
        "tf.keras.models.save_model(model,                                     # saving the fully trained model\n",
        "                           full_model_saving_path,\n",
        "                           overwrite=True,\n",
        "                           save_format='tf'\n",
        "                           )"
      ]
    }
  ],
  "metadata": {
    "accelerator": "GPU",
    "colab": {
      "gpuType": "T4",
      "include_colab_link": true,
      "provenance": []
    },
    "kernelspec": {
      "display_name": "Python 3",
      "name": "python3"
    },
    "language_info": {
      "codemirror_mode": {
        "name": "ipython",
        "version": 3
      },
      "file_extension": ".py",
      "mimetype": "text/x-python",
      "name": "python",
      "nbconvert_exporter": "python",
      "pygments_lexer": "ipython3",
      "version": "3.9.18"
    },
    "orig_nbformat": 4
  },
  "nbformat": 4,
  "nbformat_minor": 0
}
