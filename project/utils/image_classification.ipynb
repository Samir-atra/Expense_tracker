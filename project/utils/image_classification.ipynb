{
  "cells": [
    {
      "cell_type": "markdown",
      "metadata": {
        "colab_type": "text",
        "id": "view-in-github"
      },
      "source": [
        "<a href=\"https://colab.research.google.com/github/Samir-atra/Expenses_tracker/blob/main/project/utils/image_classification.ipynb\" target=\"_parent\"><img src=\"https://colab.research.google.com/assets/colab-badge.svg\" alt=\"Open In Colab\"/></a>"
      ]
    },
    {
      "cell_type": "code",
      "execution_count": 3,
      "execution_count": null,
      "metadata": {
        "id": "B3c0hJAcG8IA"
      },
      "outputs": [],
      "source": [
        "import tensorflow as tf\n",
        "import matplotlib.pyplot as plt\n",
        "import os\n",
        "import pathlib\n",
        "import IPython\n",
        "import sys\n",
        "from sklearn.model_selection import train_test_split\n",
        "import cv2\n",
        "import numpy as np"
      ]
    },
    {
      "cell_type": "code",
      "execution_count": null,
      "metadata": {
        "colab": {
          "base_uri": "https://localhost:8080/"
        },
        "id": "iyxy9EYKG8IB",
        "outputId": "bef9cd60-52d3-481b-a290-67446652b182"
      },
      "outputs": [
        {
          "name": "stdout",
          "output_type": "stream",
          "text": [
            "Drive already mounted at /content/drive; to attempt to forcibly remount, call drive.mount(\"/content/drive\", force_remount=True).\n"
          ]
        }
      ],
      "source": [
        "from google.colab import drive\n",
        "drive.mount('/content/drive')"
      ]
    },
    {
      "cell_type": "code",
      "execution_count": null,
      "metadata": {
        "id": "IzS-sApgG8IB",
        "outputId": "10966a71-c5fc-44e5-ae07-df3081831233",
        "colab": {
          "base_uri": "https://localhost:8080/"
        },
        "id": "IzS-sApgG8IB",
        "outputId": "5d4b3238-6b84-4e56-c5b4-65c58f79639e"
      },
      "outputs": [
        {
          "name": "stdout",
          "output_type": "stream",
          "text": [
            "Found 4366 files belonging to 12 classes.\n",
            "Using 3493 files for training.\n"
          ]
        }
      ],
      "source": [
        "data_dir = pathlib.Path('/content/drive/MyDrive/expenses_tracker_classifier/Tobacco3482-jpg/')\n",
        "\n",
        "# def load_data(dir):\n",
        "#     img_data_array = []\n",
        "#     class_name = []\n",
        "#     class_num = 0\n",
        "#     class_dict = dict()\n",
        "\n",
        "#     for dir1 in os.listdir(dir):\n",
        "#         # print(\"this is dir1\", dir1)\n",
        "#         for filey in os.listdir(os.path.join(dir, dir1)):\n",
        "#             image_path = os.path.join(dir, dir1, filey)\n",
        "#             image = cv2.imread(image_path, cv2.COLOR_BGR2RGB)\n",
        "#             if image is None:\n",
        "#                 print(\"beedoo\")\n",
        "#                 continue\n",
        "#             image = cv2.resize(image, (300, 300))\n",
        "#             image = np.array(image)\n",
        "#             image = image.astype(\"float32\")\n",
        "#             # image /= 255\n",
        "#             if len(image.shape) < 3:\n",
        "#                 continue\n",
        "#             else:\n",
        "#                 img_data_array.append(image)\n",
        "#                 class_name.append(class_num)\n",
        "#         print(class_num, dir1)\n",
        "#         class_dict.update({class_num: dir1})\n",
        "#         class_num +=1\n",
        "\n",
        "#     return img_data_array, class_name, class_dict\n",
        "\n",
        "\n",
        "\n",
        "\n",
        "# Split data into training and testing sets\n",
        "# img_data_array, class_name, class_dict = load_data(data_dir)\n",
        "# labels = tf.keras.utils.to_categorical(class_name)\n",
        "# print(labels)\n",
        "# x_train, x_test, y_train, y_test = train_test_split(np.array(img_data_array), np.array(class_name), test_size=0.3)\n",
        "\n",
        "# data_path_test = pathlib.Path('/content/drive/MyDrive/archiveX3/Testing/')\n",
        "# AUTOTUNE=tf.data.AUTOTUNE\n",
        "\n",
        "dataset_path = tf.keras.utils.image_dataset_from_directory(        # Training dataset\n",
        "    data_dir,\n",
        "    labels= 'inferred',\n",
        "    # validation_split=0.2,\n",
        "    # subset='training',\n",
        "    seed= 1,\n",
        "    batch_size=5,\n",
        "    image_size=(300,300),\n",
        "    color_mode=\"rgb\",\n",
        "    shuffle=True)#.cache().prefetch(buffer_size=AUTOTUNE)\n",
        "\n",
        "# dataset_path_val = tf.keras.utils.image_dataset_from_directory(      #Validation dataset\n",
        "#     data_path,\n",
        "#     labels= 'inferred',\n",
        "#     validation_split=0.2,\n",
        "#     subset='validation',\n",
        "#     seed= 2,\n",
        "#     batch_size=5,\n",
        "#     image_size=(299, 299),\n",
        "#     color_mode=\"rgb\",\n",
        "#     shuffle=True)#.cache().prefetch(buffer_size=AUTOTUNE)"
      ]
    },
    {
      "cell_type": "code",
      "execution_count": null,
      "metadata": {
        "id": "UrW9sFPBG8IB"
      },
      "outputs": [],
      "source": [
        "base_model = tf.keras.applications.inception_v3.InceptionV3(\n",
        "    input_shape = (300, 300, 3),\n",
        "    include_top = False,\n",
        "    weights = \"imagenet\"\n",
        ")"
      ]
    },
    {
      "cell_type": "code",
      "execution_count": null,
      "metadata": {
        "colab": {
          "base_uri": "https://localhost:8080/"
        },
        "id": "m_eL5sLsG8IB",
        "outputId": "f8a17d4a-d6c3-430e-d500-38f20292b89c"
      },
      "outputs": [
        {
          "name": "stderr",
          "output_type": "stream",
          "text": [
            "/usr/local/lib/python3.10/dist-packages/keras/src/engine/training.py:3000: UserWarning: You are saving your model as an HDF5 file via `model.save()`. This file format is considered legacy. We recommend using instead the native Keras format, e.g. `model.save('my_model.keras')`.\n",
            "  saving_api.save_model(\n",
            "WARNING:tensorflow:Compiled the loaded model, but the compiled metrics have yet to be built. `model.compile_metrics` will be empty until you train or evaluate the model.\n"
          ]
        }
      ],
      "source": [
        "saving_path = pathlib.Path('/content/drive/MyDrive/expenses_tracker_classifier/expenses_tracker_classifier95%test.h5')\n",
        "\n",
        "base_model.save(saving_path)"
      ]
    },
    {
      "cell_type": "code",
      "execution_count": null,
      "metadata": {

        "id": "WeasOrdqG8IC",
        "outputId": "fdddfc66-0ea0-4326-8920-04851e7b19e4",
        "colab": {
          "base_uri": "https://localhost:8080/"
        },
        "id": "WeasOrdqG8IC",
        "outputId": "507d2ae4-bf4a-4590-cf5c-9b94c05f9d96"
      },
      "outputs": [
        {
          "metadata": {
            "tags": null
          },
          "name": "stderr",
          "output_type": "stream",
          "text": [
            "WARNING:tensorflow:No training configuration found in the save file, so the model was *not* compiled. Compile it manually.\n"
          ]
        },
        {
          "name": "stdout",
          "output_type": "stream",
          "text": [
            "Epoch 1/30\n",
            "699/699 [==============================] - 725s 1s/step - loss: 1.2913 - accuracy: 0.5843\n",
            "Epoch 2/30\n",
            "699/699 [==============================] - 275s 393ms/step - loss: 0.9152 - accuracy: 0.6954\n",
            "Epoch 3/30\n",
            "699/699 [==============================] - 277s 395ms/step - loss: 0.8237 - accuracy: 0.7269\n",
            "Epoch 4/30\n",
            "699/699 [==============================] - 284s 404ms/step - loss: 0.7752 - accuracy: 0.7286\n",
            "Epoch 5/30\n",
            "699/699 [==============================] - 278s 396ms/step - loss: 0.7361 - accuracy: 0.7504\n",
            "Epoch 6/30\n",
            "699/699 [==============================] - 279s 399ms/step - loss: 0.7207 - accuracy: 0.7561\n",
            "Epoch 7/30\n",
            "699/699 [==============================] - 280s 399ms/step - loss: 0.6939 - accuracy: 0.7638\n",
            "Epoch 8/30\n",
            "699/699 [==============================] - 279s 398ms/step - loss: 0.6750 - accuracy: 0.7670\n",
            "Epoch 9/30\n",
            "699/699 [==============================] - 282s 401ms/step - loss: 0.6530 - accuracy: 0.7790\n",
            "Epoch 10/30\n",
            "699/699 [==============================] - 1778s 3s/step - loss: 0.6437 - accuracy: 0.7810\n",
            "Epoch 11/30\n",
            "699/699 [==============================] - 279s 398ms/step - loss: 0.6352 - accuracy: 0.7836\n",
            "Epoch 12/30\n",
            "699/699 [==============================] - 278s 396ms/step - loss: 0.6201 - accuracy: 0.7859\n",
            "Epoch 13/30\n",
            "699/699 [==============================] - 277s 395ms/step - loss: 0.6042 - accuracy: 0.7942\n",
            "Epoch 14/30\n",
            "699/699 [==============================] - 286s 408ms/step - loss: 0.6011 - accuracy: 0.7965\n",
            "Epoch 15/30\n",
            "699/699 [==============================] - 276s 394ms/step - loss: 0.5945 - accuracy: 0.7985\n",
            "Epoch 16/30\n",
            "699/699 [==============================] - 272s 388ms/step - loss: 0.5889 - accuracy: 0.7953\n",
            "Epoch 17/30\n",
            "699/699 [==============================] - 277s 395ms/step - loss: 0.5756 - accuracy: 0.7987\n",
            "Epoch 18/30\n",
            "699/699 [==============================] - 282s 402ms/step - loss: 0.5772 - accuracy: 0.8022\n",
            "Epoch 19/30\n",
            "699/699 [==============================] - 279s 398ms/step - loss: 0.5666 - accuracy: 0.8030\n",
            "Epoch 20/30\n",
            "699/699 [==============================] - 276s 393ms/step - loss: 0.5603 - accuracy: 0.8062\n",
            "Epoch 21/30\n",
            "699/699 [==============================] - 273s 390ms/step - loss: 0.5575 - accuracy: 0.8050\n",
            "Epoch 22/30\n",
            "699/699 [==============================] - 276s 393ms/step - loss: 0.5380 - accuracy: 0.8113\n",
            "Epoch 23/30\n",
            "699/699 [==============================] - 275s 391ms/step - loss: 0.5430 - accuracy: 0.8133\n",
            "Epoch 24/30\n",
            "699/699 [==============================] - 274s 390ms/step - loss: 0.5447 - accuracy: 0.8113\n",
            "Epoch 25/30\n",
            "699/699 [==============================] - 271s 387ms/step - loss: 0.5268 - accuracy: 0.8139\n",
            "Epoch 26/30\n",
            "699/699 [==============================] - 273s 390ms/step - loss: 0.5319 - accuracy: 0.8199\n",
            "Epoch 27/30\n",
            "699/699 [==============================] - 277s 394ms/step - loss: 0.5240 - accuracy: 0.8222\n",
            "Epoch 28/30\n",
            "699/699 [==============================] - 567s 811ms/step - loss: 0.5251 - accuracy: 0.8136\n",
            "Epoch 29/30\n",
            "699/699 [==============================] - 273s 389ms/step - loss: 0.5207 - accuracy: 0.8214\n",
            "Epoch 30/30\n",
            "699/699 [==============================] - 275s 392ms/step - loss: 0.5135 - accuracy: 0.8236\n"
          ]
        }
      ],
      "source": [
        "base_model = tf.keras.models.load_model(saving_path)                 #Loading base_model\n",
        "\n",
        "base_model.trainable = False                                        # Setting the model as non-trainable\n",
        "\n",
        "rescaling = tf.keras.Sequential([\n",
        "  tf.keras.layers.Rescaling(scale=1 / 127.5, offset=-1)             # Rescaling to (1, -1) range required for inceptionV3 model\n",
        "])\n",
        "augmentation = tf.keras.Sequential([                                # Applying augmentations o the images\n",
        "   tf.keras.layers.RandomFlip(\"horizontal\"),\n",
        "   tf.keras.layers.RandomRotation(0.1)\n",
        "])\n",
        "\n",
        "\n",
        "inputs = tf.keras.Input(shape=(300, 300, 3))\n",
        "# x = augmentation(inputs)\n",
        "x = rescaling(inputs)\n",
        "x = base_model(x, training=False)\n",
        "x = tf.keras.layers.GlobalAveragePooling2D()(x)\n",
        "outputs = tf.keras.layers.Dense(12, activation='softmax')(x)                   # \"softmax\" in the final layer for decision making\n",
        "model = tf.keras.Model(inputs, outputs)\n",
        "\n",
        "\n",
        "model.compile(\n",
        "    optimizer = tf.keras.optimizers.Adam(learning_rate = 0.0005),        # compiling with low learning rate\n",
        "    loss=tf.losses.SparseCategoricalCrossentropy(),\n",
        "    metrics=['accuracy'],\n",
        "    run_eagerly = True)\n",
        "\n",
        "checkpoint_filepath = '/content/drive/MyDrive/expenses_tracker_classifier/checkpoint'\n",
        "model_checkpoint_callback = tf.keras.callbacks.ModelCheckpoint(\n",
        "    filepath=checkpoint_filepath,\n",
        "    save_weights_only=True,\n",
        "    monitor='accuracy',\n",
        "    mode='max',\n",
        "    save_best_only=True)\n",
        "\n",
        "model.fit(                                                               # fitting the whole model for non-trainable base\n",
        "    dataset_path,\n",
        "    epochs=20,\n",
        "    callbacks=[model_checkpoint_callback])\n",
        "\n",
        "\n",
        "# model.load_weights(checkpoint_filepath)\n",
        "# model.evaluate(\n",
        "#     x=x_test,\n",
        "#     y=y_test,)\n",
        "\n",
        "full_model_saving_path = pathlib.Path('/content/drive/MyDrive/expenses_tracker_classifier/expenses_tracker_model.h5')\n",
        "\n",
        "tf.keras.models.save_model(model,                                     # saving the fully trained model\n",
        "                           full_model_saving_path,\n",
        "                           overwrite=True,\n",
        "                           save_format='tf'\n",
        "                           )"
      ]
    },
    {
      "cell_type": "code",
      "execution_count": 19,
      "metadata": {
        "colab": {
          "base_uri": "https://localhost:8080/"
        },
        "id": "YtpO0zf-U6FZ",
        "outputId": "07a39d4c-cde9-4a99-9fbc-5eff6a6d13cd"
      },
      "outputs": [
        {
          "name": "stdout",
          "output_type": "stream",
          "text": [
            "Found 1 files belonging to 1 classes.\n",
            "(1, 300, 300, 3)\n"
          ]
        },
        {
          "name": "stderr",
          "output_type": "stream",
          "text": [
            "WARNING:tensorflow:5 out of the last 5 calls to <function Model.make_predict_function.<locals>.predict_function at 0x7c4448781120> triggered tf.function retracing. Tracing is expensive and the excessive number of tracings could be due to (1) creating @tf.function repeatedly in a loop, (2) passing tensors with different shapes, (3) passing Python objects instead of tensors. For (1), please define your @tf.function outside of the loop. For (2), @tf.function has reduce_retracing=True option that can avoid unnecessary retracing. For (3), please refer to https://www.tensorflow.org/guide/function#controlling_retracing and https://www.tensorflow.org/api_docs/python/tf/function for  more details.\n"
          ]
        },
        {
          "name": "stdout",
          "output_type": "stream",
          "text": [
            "1/1 [==============================] - 1s 1s/step\n",
            "Receipts\n"
          ]
        }
      ],
      "source": [
        "full_model_saving_path = pathlib.Path('/content/drive/MyDrive/expenses_tracker_classifier/expenses_tracker_model.h5')\n",
        "loaded_model = tf.keras.models.load_model(full_model_saving_path, compile=True)\n",
        "pred_img_path = pathlib.Path('/content/drive/MyDrive/expenses_tracker_classifier/pred_imgs/')\n",
        "# imagess, labelss, _ = load_data(pred_img_path)\n",
        "\n",
        "\n",
        "loaded_model.compile(\n",
        "    optimizer = tf.keras.optimizers.Adam(learning_rate = 0.0005),        # compiling with low learning rate\n",
        "    loss=tf.losses.SparseCategoricalCrossentropy(from_logits= True),\n",
        "    metrics=['accuracy'],\n",
        "    run_eagerly = False)\n",
        "\n",
        "# dataset_pathy = tf.keras.utils.image_dataset_from_directory(\n",
        "#     pred_img_path,\n",
        "#     labels= 'inferred',\n",
        "#     seed= 1,\n",
        "#     batch_size=1,\n",
        "#     image_size=(300, 300),\n",
        "#     color_mode=\"rgb\",\n",
        "#     shuffle=False)\n",
        "\n",
        "\n",
        "# for image in imagess:\n",
        "# #   #  for i in range(1):\n",
        "# #       #  ax = plt.subplot(1, 1, i+1)\n",
        "#    plt.imshow(image.astype(\"uint8\"))\n",
        "# # #       #  plt.title(class_names[labels[i]])\n",
        "# # #       #  plt.axis(\"off\")\n",
        "#    plt.show()\n",
        "\n",
        "\n",
        "sample_list = []                                                        # creating a list of sample(s)\n",
        "for sample, label in load_data(pred_img_path):\n",
        "for sample, labels in dataset_pathy:\n",
        "    sample_list.append(sample)\n",
        "    continue\n",
        "\n",
        "class_dict = {0:\"Report\",\n",
        "1:\"Letter\",\n",
        "2:\"Memo\",\n",
        "3:\"Email\",\n",
        "4:\"Note\",\n",
        "5:\"Scientific\",\n",
        "6:\"Form\",\n",
        "7:\"Resume\",\n",
        "8:\"ADVE\",\n",
        "9:\"News\",\n",
        "10:\"Receipts\",\n",
        "11:\"Empty_Papers\",}\n",
        "\n",
        "sample_list = np.array(sample_list)\n",
        "for sample in sample_list:\n",
        "    # print(sample.shape)\n",
        "    # sample = tf.expand_dims(sample, axis=0)\n",
        "    predictions = loaded_model.predict(sample)\n",
        "    pred = np.argmax(predictions, axis=1)\n",
        "    print(class_dict.get(pred[0]))\n"
      ],
      "metadata": {
        "id": "YtpO0zf-U6FZ",
        "outputId": "380e18f8-ef70-484a-9ee7-c7df795219ee",
        "colab": {
          "base_uri": "https://localhost:8080/"
        }
      },
      "execution_count": null,
      "outputs": [
        {
          "output_type": "stream",
          "name": "stdout",
          "text": [
            "Found 5 files belonging to 1 classes.\n",
            "1/1 [==============================] - 1s 1s/step\n",
            "Resume\n",
            "1/1 [==============================] - 0s 28ms/step\n",
            "Note\n",
            "1/1 [==============================] - 0s 28ms/step\n",
            "ADVE\n",
            "1/1 [==============================] - 0s 28ms/step\n",
            "ADVE\n",
            "1/1 [==============================] - 0s 30ms/step\n",
            "Scientific\n"
          ]
        }
      ]
    }
  ],
  "metadata": {
    "accelerator": "GPU",
    "colab": {
      "gpuType": "T4",
      "include_colab_link": true,
      "provenance": []
    },
    "kernelspec": {
      "display_name": "Python 3",
      "name": "python3"
    },
    "language_info": {
      "codemirror_mode": {
        "name": "ipython",
        "version": 3
      },
      "file_extension": ".py",
      "mimetype": "text/x-python",
      "name": "python",
      "nbconvert_exporter": "python",
      "pygments_lexer": "ipython3",
      "version": "3.9.18"
    },
    "orig_nbformat": 4
  },
  "nbformat": 4,
  "nbformat_minor": 0
}
