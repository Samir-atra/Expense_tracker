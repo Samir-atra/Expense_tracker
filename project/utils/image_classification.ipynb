{
  "cells": [
    {
      "cell_type": "markdown",
      "metadata": {
        "colab_type": "text",
        "id": "view-in-github"
      },
      "source": [
        "<a href=\"https://colab.research.google.com/github/Samir-atra/Expenses_tracker/blob/main/project/utils/image_classification.ipynb\" target=\"_parent\"><img src=\"https://colab.research.google.com/assets/colab-badge.svg\" alt=\"Open In Colab\"/></a>"
      ]
    },
    {
      "cell_type": "code",
      "execution_count": 3,
      "metadata": {
        "id": "B3c0hJAcG8IA"
      },
      "outputs": [],
      "source": [
        "import tensorflow as tf\n",
        "import matplotlib.pyplot as plt\n",
        "import os\n",
        "import pathlib\n",
        "import IPython\n",
        "import sys\n",
        "from sklearn.model_selection import train_test_split\n",
        "import cv2\n",
        "import numpy as np"
      ]
    },
    {
      "cell_type": "code",
      "execution_count": 2,
      "metadata": {
        "colab": {
          "base_uri": "https://localhost:8080/"
        },
        "id": "iyxy9EYKG8IB",
        "outputId": "81af38e1-39fa-4d7a-e6ba-6f1a79ad86ea"
      },
      "outputs": [
        {
          "name": "stdout",
          "output_type": "stream",
          "text": [
            "Mounted at /content/drive\n"
          ]
        }
      ],
      "source": [
        "from google.colab import drive\n",
        "drive.mount('/content/drive')"
      ]
    },
    {
      "cell_type": "code",
      "execution_count": 16,
      "metadata": {
        "colab": {
          "base_uri": "https://localhost:8080/"
        },
        "id": "IzS-sApgG8IB",
        "outputId": "5d4b3238-6b84-4e56-c5b4-65c58f79639e"
      },
      "outputs": [
        {
          "name": "stdout",
          "output_type": "stream",
          "text": [
            "0 Report\n",
            "1 Letter\n",
            "2 Memo\n",
            "3 Email\n",
            "4 Note\n",
            "5 Scientific\n",
            "6 Form\n",
            "7 Resume\n",
            "8 ADVE\n",
            "9 News\n",
            "10 Receipts\n",
            "11 Empty_Papers\n"
          ]
        }
      ],
      "source": [
        "data_dir = pathlib.Path('/content/drive/MyDrive/expenses_tracker_classifier/Tobacco3482-jpg/')\n",
        "\n",
        "def load_data(dir):\n",
        "    img_data_array = []\n",
        "    class_name = []\n",
        "    class_num = 0\n",
        "    class_dict = dict()\n",
        "\n",
        "    for dir1 in os.listdir(dir):\n",
        "        # print(\"this is dir1\", dir1)\n",
        "        for filey in os.listdir(os.path.join(dir, dir1)):\n",
        "            image_path = os.path.join(dir, dir1, filey)\n",
        "            image = cv2.imread(image_path, cv2.COLOR_BGR2RGB)\n",
        "            if image is None:\n",
        "                continue\n",
        "            image = cv2.resize(image, (300, 300))\n",
        "            image = np.array(image)\n",
        "            image = image.astype(\"float32\")\n",
        "            # image /= 255\n",
        "            if len(image.shape) < 3:\n",
        "                continue\n",
        "            else:\n",
        "                img_data_array.append(image)\n",
        "                class_name.append(class_num)\n",
        "        print(class_num, dir1)\n",
        "        class_dict.update({class_num: dir1})\n",
        "        class_num +=1\n",
        "\n",
        "    return img_data_array, class_name, class_dict\n",
        "\n",
        "\n",
        "\n",
        "\n",
        "# Split data into training and testing sets\n",
        "img_data_array, class_name, class_dict = load_data(data_dir)\n",
        "# labels = tf.keras.utils.to_categorical(class_name)\n",
        "# print(labels)\n",
        "x_train, x_test, y_train, y_test = train_test_split(np.array(img_data_array), np.array(class_name), test_size=0.3)\n",
        "\n",
        "# data_path_test = pathlib.Path('/content/drive/MyDrive/archiveX3/Testing/')\n",
        "# AUTOTUNE=tf.data.AUTOTUNE\n",
        "\n",
        "# dataset_path = tf.keras.utils.image_dataset_from_directory(        # Training dataset\n",
        "#     data_path,\n",
        "#     labels= 'inferred',\n",
        "#     validation_split=0.2,\n",
        "#     subset='training',\n",
        "#     seed= 1,\n",
        "#     batch_size=5,\n",
        "#     image_size=(299, 299),\n",
        "#     color_mode=\"rgb\",\n",
        "#     shuffle=True)#.cache().prefetch(buffer_size=AUTOTUNE)\n",
        "\n",
        "# dataset_path_val = tf.keras.utils.image_dataset_from_directory(      #Validation dataset\n",
        "#     data_path,\n",
        "#     labels= 'inferred',\n",
        "#     validation_split=0.2,\n",
        "#     subset='validation',\n",
        "#     seed= 2,\n",
        "#     batch_size=5,\n",
        "#     image_size=(299, 299),\n",
        "#     color_mode=\"rgb\",\n",
        "#     shuffle=True)#.cache().prefetch(buffer_size=AUTOTUNE)"
      ]
    },
    {
      "cell_type": "code",
      "execution_count": 12,
      "metadata": {
        "id": "UrW9sFPBG8IB"
      },
      "outputs": [],
      "source": [
        "base_model = tf.keras.applications.inception_v3.InceptionV3(\n",
        "    input_shape = (300, 300, 3),\n",
        "    include_top = False,\n",
        "    weights = \"imagenet\"\n",
        ")"
      ]
    },
    {
      "cell_type": "code",
      "execution_count": 17,
      "metadata": {
        "colab": {
          "base_uri": "https://localhost:8080/"
        },
        "id": "m_eL5sLsG8IB",
        "outputId": "41fddc82-a932-45f2-da54-70fb1cfe3546"
      },
      "outputs": [
        {
          "name": "stderr",
          "output_type": "stream",
          "text": [
            "WARNING:tensorflow:Compiled the loaded model, but the compiled metrics have yet to be built. `model.compile_metrics` will be empty until you train or evaluate the model.\n"
          ]
        }
      ],
      "source": [
        "saving_path = pathlib.Path('/content/drive/MyDrive/expenses_tracker_classifier/expenses_tracker_classifier95%test.h5')\n",
        "\n",
        "base_model.save(saving_path)"
      ]
    },
    {
      "cell_type": "code",
      "execution_count": 18,
      "metadata": {
        "colab": {
          "base_uri": "https://localhost:8080/"
        },
        "id": "WeasOrdqG8IC",
        "outputId": "507d2ae4-bf4a-4590-cf5c-9b94c05f9d96"
      },
      "outputs": [
        {
          "name": "stderr",
          "output_type": "stream",
          "text": [
            "WARNING:tensorflow:No training configuration found in the save file, so the model was *not* compiled. Compile it manually.\n"
          ]
        },
        {
          "name": "stdout",
          "output_type": "stream",
          "text": [
            "Epoch 1/30\n",
            "18/18 [==============================] - 9s 512ms/step - loss: 1.0411 - accuracy: 0.5925\n",
            "Epoch 2/30\n",
            "18/18 [==============================] - 10s 534ms/step - loss: 0.1822 - accuracy: 0.9946\n",
            "Epoch 3/30\n",
            "18/18 [==============================] - 10s 544ms/step - loss: 0.0812 - accuracy: 0.9964\n",
            "Epoch 4/30\n",
            "18/18 [==============================] - 9s 521ms/step - loss: 0.0535 - accuracy: 0.9946\n",
            "Epoch 5/30\n",
            "18/18 [==============================] - 10s 542ms/step - loss: 0.0414 - accuracy: 0.9964\n",
            "Epoch 6/30\n",
            "18/18 [==============================] - 10s 535ms/step - loss: 0.0343 - accuracy: 0.9982\n",
            "Epoch 7/30\n",
            "18/18 [==============================] - 10s 536ms/step - loss: 0.0316 - accuracy: 0.9982\n",
            "Epoch 8/30\n",
            "18/18 [==============================] - 9s 505ms/step - loss: 0.0286 - accuracy: 0.9982\n",
            "Epoch 9/30\n",
            "18/18 [==============================] - 10s 552ms/step - loss: 0.0271 - accuracy: 0.9982\n",
            "Epoch 10/30\n",
            "18/18 [==============================] - 10s 555ms/step - loss: 0.0255 - accuracy: 0.9982\n",
            "Epoch 11/30\n",
            "18/18 [==============================] - 9s 513ms/step - loss: 0.0204 - accuracy: 0.9982\n",
            "Epoch 12/30\n",
            "18/18 [==============================] - 10s 567ms/step - loss: 0.0209 - accuracy: 0.9964\n",
            "Epoch 13/30\n",
            "18/18 [==============================] - 10s 546ms/step - loss: 0.0171 - accuracy: 0.9982\n",
            "Epoch 14/30\n",
            "18/18 [==============================] - 10s 541ms/step - loss: 0.0171 - accuracy: 0.9982\n",
            "Epoch 15/30\n",
            "18/18 [==============================] - 9s 509ms/step - loss: 0.0189 - accuracy: 0.9982\n",
            "Epoch 16/30\n",
            "18/18 [==============================] - 10s 557ms/step - loss: 0.0147 - accuracy: 0.9982\n",
            "Epoch 17/30\n",
            "18/18 [==============================] - 10s 538ms/step - loss: 0.0135 - accuracy: 0.9982\n",
            "Epoch 18/30\n",
            "18/18 [==============================] - 9s 522ms/step - loss: 0.0146 - accuracy: 0.9982\n",
            "Epoch 19/30\n",
            "18/18 [==============================] - 10s 537ms/step - loss: 0.0129 - accuracy: 0.9982\n",
            "Epoch 20/30\n",
            "18/18 [==============================] - 10s 544ms/step - loss: 0.0126 - accuracy: 0.9982\n",
            "Epoch 21/30\n",
            "18/18 [==============================] - 10s 537ms/step - loss: 0.0114 - accuracy: 0.9982\n",
            "Epoch 22/30\n",
            "18/18 [==============================] - 10s 524ms/step - loss: 0.0122 - accuracy: 0.9982\n",
            "Epoch 23/30\n",
            "18/18 [==============================] - 10s 549ms/step - loss: 0.0098 - accuracy: 0.9982\n",
            "Epoch 24/30\n",
            "18/18 [==============================] - 10s 544ms/step - loss: 0.0112 - accuracy: 0.9982\n",
            "Epoch 25/30\n",
            "18/18 [==============================] - 9s 508ms/step - loss: 0.0092 - accuracy: 0.9982\n",
            "Epoch 26/30\n",
            "18/18 [==============================] - 10s 542ms/step - loss: 0.0101 - accuracy: 0.9982\n",
            "Epoch 27/30\n",
            "18/18 [==============================] - 10s 569ms/step - loss: 0.0100 - accuracy: 0.9982\n",
            "Epoch 28/30\n",
            "18/18 [==============================] - 10s 557ms/step - loss: 0.0088 - accuracy: 0.9982\n",
            "Epoch 29/30\n",
            "18/18 [==============================] - 10s 548ms/step - loss: 0.0095 - accuracy: 0.9982\n",
            "Epoch 30/30\n",
            "18/18 [==============================] - 10s 540ms/step - loss: 0.0075 - accuracy: 0.9982\n",
            "8/8 [==============================] - 2s 198ms/step - loss: 0.0115 - accuracy: 1.0000\n"
          ]
        }
      ],
      "source": [
        "base_model = tf.keras.models.load_model(saving_path)                 #Loading base_model\n",
        "\n",
        "base_model.trainable = False                                        # Setting the model as non-trainable\n",
        "\n",
        "rescaling = tf.keras.Sequential([\n",
        "  tf.keras.layers.Rescaling(scale=1 / 127.5, offset=-1)             # Rescaling to (1, -1) range required for inceptionV3 model\n",
        "])\n",
        "augmentation = tf.keras.Sequential([                                # Applying augmentations o the images\n",
        "   tf.keras.layers.RandomFlip(\"horizontal\"),\n",
        "   tf.keras.layers.RandomRotation(0.1)\n",
        "])\n",
        "\n",
        "\n",
        "inputs = tf.keras.Input(shape=(300, 300, 3))\n",
        "x = augmentation(inputs)\n",
        "x = rescaling(x)\n",
        "x = base_model(x, training=False)\n",
        "x = tf.keras.layers.GlobalAveragePooling2D()(x)\n",
        "outputs = tf.keras.layers.Dense(12, activation='softmax')(x)                   # \"softmax\" in the final layer for decision making\n",
        "model = tf.keras.Model(inputs, outputs)\n",
        "\n",
        "\n",
        "model.compile(\n",
        "    optimizer = tf.keras.optimizers.Adam(learning_rate = 0.0005),        # compiling with low learning rate\n",
        "    loss=tf.losses.SparseCategoricalCrossentropy(),\n",
        "    metrics=['accuracy'],\n",
        "    run_eagerly = True)\n",
        "\n",
        "model.fit(                                                               # fitting the whole model for non-trainable base\n",
        "    x_train,\n",
        "    y_train,\n",
        "    epochs=30,)\n",
        "\n",
        "model.evaluate(\n",
        "    x=x_test,\n",
        "    y=y_test,)\n",
        "\n",
        "full_model_saving_path = pathlib.Path('/content/drive/MyDrive/expenses_tracker_classifier/expenses_tracker_model.h5')\n",
        "\n",
        "tf.keras.models.save_model(model,                                     # saving the fully trained model\n",
        "                           full_model_saving_path,\n",
        "                           overwrite=True,\n",
        "                           save_format='tf'\n",
        "                           )"
      ]
    },
    {
      "cell_type": "code",
      "execution_count": 19,
      "metadata": {
        "colab": {
          "base_uri": "https://localhost:8080/"
        },
        "id": "YtpO0zf-U6FZ",
        "outputId": "07a39d4c-cde9-4a99-9fbc-5eff6a6d13cd"
      },
      "outputs": [
        {
          "name": "stdout",
          "output_type": "stream",
          "text": [
            "Found 1 files belonging to 1 classes.\n",
            "(1, 300, 300, 3)\n"
          ]
        },
        {
          "name": "stderr",
          "output_type": "stream",
          "text": [
            "WARNING:tensorflow:5 out of the last 5 calls to <function Model.make_predict_function.<locals>.predict_function at 0x7c4448781120> triggered tf.function retracing. Tracing is expensive and the excessive number of tracings could be due to (1) creating @tf.function repeatedly in a loop, (2) passing tensors with different shapes, (3) passing Python objects instead of tensors. For (1), please define your @tf.function outside of the loop. For (2), @tf.function has reduce_retracing=True option that can avoid unnecessary retracing. For (3), please refer to https://www.tensorflow.org/guide/function#controlling_retracing and https://www.tensorflow.org/api_docs/python/tf/function for  more details.\n"
          ]
        },
        {
          "name": "stdout",
          "output_type": "stream",
          "text": [
            "1/1 [==============================] - 1s 1s/step\n",
            "Receipts\n"
          ]
        }
      ],
      "source": [
        "loaded_model = tf.keras.models.load_model(full_model_saving_path, compile=True)\n",
        "pred_img_path = pathlib.Path('/content/drive/MyDrive/expenses_tracker_classifier/pred_imgs/')\n",
        "# images, labels = load_data(pred_img_path)\n",
        "# print(\"this is iamges\", len(labels), labels)\n",
        "# print(\"this is labels\", labels)\n",
        "\n",
        "loaded_model.compile(\n",
        "    optimizer = tf.keras.optimizers.Adam(learning_rate = 0.0005),        # compiling with low learning rate\n",
        "    loss=tf.losses.SparseCategoricalCrossentropy(from_logits= True),\n",
        "    metrics=['accuracy'],\n",
        "    run_eagerly = False)\n",
        "\n",
        "# dataset_pathy = tf.keras.utils.image_dataset_from_directory(\n",
        "#     pred_img_path,\n",
        "#     labels= 'inferred',\n",
        "#     seed= 1,\n",
        "#     batch_size=1,\n",
        "#     image_size=(300, 300),\n",
        "#     color_mode=\"rgb\",\n",
        "#     shuffle=False)\n",
        "\n",
        "\n",
        "# # for image in images:\n",
        "#   #  for i in range(1):\n",
        "#       #  ax = plt.subplot(1, 1, i+1)\n",
        "#    plt.imshow(images[0].astype(\"uint8\"))\n",
        "#       #  plt.title(class_names[labels[i]])\n",
        "#       #  plt.axis(\"off\")\n",
        "#    plt.show()\n",
        "\n",
        "\n",
        "sample_list = []                                                        # creating a list of sample(s)\n",
        "for sample, label in load_data(pred_img_path):\n",
        "    sample_list.append(sample)\n",
        "    continue\n",
        "\n",
        "sample_list = np.array(sample_list)\n",
        "for sample in sample_list:\n",
        "    print(sample.shape)\n",
        "    # images[0] = tf.expand_dims(images[0], axis=0)\n",
        "    predictions = loaded_model.predict(sample)\n",
        "    pred = np.argmax(predictions, axis=1)\n",
        "    print(class_dict.get(pred[0]))\n"
      ]
    }
  ],
  "metadata": {
    "accelerator": "GPU",
    "colab": {
      "gpuType": "T4",
      "include_colab_link": true,
      "provenance": []
    },
    "kernelspec": {
      "display_name": "Python 3",
      "name": "python3"
    },
    "language_info": {
      "codemirror_mode": {
        "name": "ipython",
        "version": 3
      },
      "file_extension": ".py",
      "mimetype": "text/x-python",
      "name": "python",
      "nbconvert_exporter": "python",
      "pygments_lexer": "ipython3",
      "version": "3.9.18"
    },
    "orig_nbformat": 4
  },
  "nbformat": 4,
  "nbformat_minor": 0
}
