{
  "cells": [
    {
      "cell_type": "markdown",
      "metadata": {
        "colab_type": "text",
        "id": "view-in-github"
      },
      "source": [
        "<a href=\"https://colab.research.google.com/github/Samir-atra/Expenses_tracker/blob/main/project/utils/image_classification.ipynb\" target=\"_parent\"><img src=\"https://colab.research.google.com/assets/colab-badge.svg\" alt=\"Open In Colab\"/></a>"
      ]
    },
    {
      "cell_type": "code",
      "execution_count": 1,
      "metadata": {
        "id": "B3c0hJAcG8IA"
      },
      "outputs": [
        {
          "name": "stderr",
          "output_type": "stream",
          "text": [
            "2023-11-03 01:29:00.494699: I tensorflow/core/util/port.cc:111] oneDNN custom operations are on. You may see slightly different numerical results due to floating-point round-off errors from different computation orders. To turn them off, set the environment variable `TF_ENABLE_ONEDNN_OPTS=0`.\n",
            "2023-11-03 01:29:00.525619: E tensorflow/compiler/xla/stream_executor/cuda/cuda_dnn.cc:9342] Unable to register cuDNN factory: Attempting to register factory for plugin cuDNN when one has already been registered\n",
            "2023-11-03 01:29:00.525646: E tensorflow/compiler/xla/stream_executor/cuda/cuda_fft.cc:609] Unable to register cuFFT factory: Attempting to register factory for plugin cuFFT when one has already been registered\n",
            "2023-11-03 01:29:00.525666: E tensorflow/compiler/xla/stream_executor/cuda/cuda_blas.cc:1518] Unable to register cuBLAS factory: Attempting to register factory for plugin cuBLAS when one has already been registered\n",
            "2023-11-03 01:29:00.531199: I tensorflow/core/platform/cpu_feature_guard.cc:182] This TensorFlow binary is optimized to use available CPU instructions in performance-critical operations.\n",
            "To enable the following instructions: AVX2 AVX_VNNI FMA, in other operations, rebuild TensorFlow with the appropriate compiler flags.\n"
          ]
        },
        {
          "name": "stdout",
          "output_type": "stream",
          "text": [
            "Using TensorFlow backend\n"
          ]
        }
      ],
      "source": [
        "#imports\n",
        "\n",
        "import tensorflow as tf\n",
        "import pathlib\n",
        "import IPython\n",
        "import numpy as np\n",
        "import keras_tuner\n"
      ]
    },
    {
      "cell_type": "code",
      "execution_count": 2,
      "metadata": {
        "colab": {
          "base_uri": "https://localhost:8080/"
        },
        "id": "iyxy9EYKG8IB",
        "outputId": "bef9cd60-52d3-481b-a290-67446652b182"
      },
      "outputs": [],
      "source": [
        "# from google.colab import drive\n",
        "# drive.mount('/content/drive')"
      ]
    },
    {
      "cell_type": "code",
      "execution_count": 3,
      "metadata": {
        "colab": {
          "base_uri": "https://localhost:8080/"
        },
        "id": "IzS-sApgG8IB",
        "outputId": "5d4b3238-6b84-4e56-c5b4-65c58f79639e"
      },
      "outputs": [
        {
          "name": "stdout",
          "output_type": "stream",
          "text": [
            "Found 3102 files belonging to 6 classes.\n",
            "Using 2172 files for training.\n",
            "Using 930 files for validation.\n"
          ]
        },
        {
          "name": "stderr",
          "output_type": "stream",
          "text": [
            "2023-11-03 01:29:02.677434: I tensorflow/compiler/xla/stream_executor/cuda/cuda_gpu_executor.cc:894] successful NUMA node read from SysFS had negative value (-1), but there must be at least one NUMA node, so returning NUMA node zero. See more at https://github.com/torvalds/linux/blob/v6.0/Documentation/ABI/testing/sysfs-bus-pci#L344-L355\n",
            "2023-11-03 01:29:02.683406: I tensorflow/compiler/xla/stream_executor/cuda/cuda_gpu_executor.cc:894] successful NUMA node read from SysFS had negative value (-1), but there must be at least one NUMA node, so returning NUMA node zero. See more at https://github.com/torvalds/linux/blob/v6.0/Documentation/ABI/testing/sysfs-bus-pci#L344-L355\n",
            "2023-11-03 01:29:02.683541: I tensorflow/compiler/xla/stream_executor/cuda/cuda_gpu_executor.cc:894] successful NUMA node read from SysFS had negative value (-1), but there must be at least one NUMA node, so returning NUMA node zero. See more at https://github.com/torvalds/linux/blob/v6.0/Documentation/ABI/testing/sysfs-bus-pci#L344-L355\n",
            "2023-11-03 01:29:02.684610: I tensorflow/compiler/xla/stream_executor/cuda/cuda_gpu_executor.cc:894] successful NUMA node read from SysFS had negative value (-1), but there must be at least one NUMA node, so returning NUMA node zero. See more at https://github.com/torvalds/linux/blob/v6.0/Documentation/ABI/testing/sysfs-bus-pci#L344-L355\n",
            "2023-11-03 01:29:02.684712: I tensorflow/compiler/xla/stream_executor/cuda/cuda_gpu_executor.cc:894] successful NUMA node read from SysFS had negative value (-1), but there must be at least one NUMA node, so returning NUMA node zero. See more at https://github.com/torvalds/linux/blob/v6.0/Documentation/ABI/testing/sysfs-bus-pci#L344-L355\n",
            "2023-11-03 01:29:02.684787: I tensorflow/compiler/xla/stream_executor/cuda/cuda_gpu_executor.cc:894] successful NUMA node read from SysFS had negative value (-1), but there must be at least one NUMA node, so returning NUMA node zero. See more at https://github.com/torvalds/linux/blob/v6.0/Documentation/ABI/testing/sysfs-bus-pci#L344-L355\n",
            "2023-11-03 01:29:02.750347: I tensorflow/compiler/xla/stream_executor/cuda/cuda_gpu_executor.cc:894] successful NUMA node read from SysFS had negative value (-1), but there must be at least one NUMA node, so returning NUMA node zero. See more at https://github.com/torvalds/linux/blob/v6.0/Documentation/ABI/testing/sysfs-bus-pci#L344-L355\n",
            "2023-11-03 01:29:02.750454: I tensorflow/compiler/xla/stream_executor/cuda/cuda_gpu_executor.cc:894] successful NUMA node read from SysFS had negative value (-1), but there must be at least one NUMA node, so returning NUMA node zero. See more at https://github.com/torvalds/linux/blob/v6.0/Documentation/ABI/testing/sysfs-bus-pci#L344-L355\n",
            "2023-11-03 01:29:02.750516: I tensorflow/compiler/xla/stream_executor/cuda/cuda_gpu_executor.cc:894] successful NUMA node read from SysFS had negative value (-1), but there must be at least one NUMA node, so returning NUMA node zero. See more at https://github.com/torvalds/linux/blob/v6.0/Documentation/ABI/testing/sysfs-bus-pci#L344-L355\n",
            "2023-11-03 01:29:02.750572: I tensorflow/core/common_runtime/gpu/gpu_device.cc:1886] Created device /job:localhost/replica:0/task:0/device:GPU:0 with 2287 MB memory:  -> device: 0, name: NVIDIA GeForce RTX 3050 Laptop GPU, pci bus id: 0000:01:00.0, compute capability: 8.6\n"
          ]
        }
      ],
      "source": [
        "# load the data\n",
        "\n",
        "data_dir = pathlib.Path('/home/samer/Desktop/Tobacco3482-jpg/')\n",
        "\n",
        "\n",
        "dataset_path, val_data = tf.keras.utils.image_dataset_from_directory(        # Training and validation dataset\n",
        "    data_dir,\n",
        "    labels= 'inferred',\n",
        "    validation_split=0.3,\n",
        "    subset='both',\n",
        "    seed= 100,\n",
        "    batch_size=12,\n",
        "    image_size=(300,300),\n",
        "    color_mode=\"rgb\",\n",
        "    shuffle=True)#.cache().prefetch(buffer_size=AUTOTUNE)\n",
        "\n",
        "# dataset_path_test = tf.keras.utils.image_dataset_from_directory(      # Test dataset\n",
        "#     data_path,\n",
        "#     labels= 'inferred',\n",
        "#     seed= 2,\n",
        "#     batch_size=5,\n",
        "#     image_size=(299, 299),\n",
        "#     color_mode=\"rgb\",\n",
        "#     shuffle=True)#.cache().prefetch(buffer_size=AUTOTUNE)"
      ]
    },
    {
      "cell_type": "code",
      "execution_count": 4,
      "metadata": {
        "id": "UrW9sFPBG8IB"
      },
      "outputs": [],
      "source": [
        "# download the transfer learning pre-trained model\n",
        "\n",
        "base_model = tf.keras.applications.inception_v3.InceptionV3(\n",
        "    input_shape = (300, 300, 3),\n",
        "    include_top = False,\n",
        "    weights = \"imagenet\",\n",
        "    \n",
        ")"
      ]
    },
    {
      "cell_type": "code",
      "execution_count": 5,
      "metadata": {
        "colab": {
          "base_uri": "https://localhost:8080/"
        },
        "id": "m_eL5sLsG8IB",
        "outputId": "f8a17d4a-d6c3-430e-d500-38f20292b89c"
      },
      "outputs": [
        {
          "name": "stdout",
          "output_type": "stream",
          "text": [
            "WARNING:tensorflow:Compiled the loaded model, but the compiled metrics have yet to be built. `model.compile_metrics` will be empty until you train or evaluate the model.\n"
          ]
        },
        {
          "name": "stderr",
          "output_type": "stream",
          "text": [
            "/home/samer/anaconda3/envs/tensorflow/lib/python3.9/site-packages/keras/src/engine/training.py:3079: UserWarning: You are saving your model as an HDF5 file via `model.save()`. This file format is considered legacy. We recommend using instead the native Keras format, e.g. `model.save('my_model.keras')`.\n",
            "  saving_api.save_model(\n"
          ]
        }
      ],
      "source": [
        "# save the pre-trained model\n",
        "saving_path = pathlib.Path('/home/samer/Desktop/Beedoo/Expenses_tracker_stuff/expenses_tracker_classifier95%test.h5')\n",
        "\n",
        "base_model.save(saving_path)"
      ]
    },
    {
      "cell_type": "code",
      "execution_count": 6,
      "metadata": {
        "colab": {
          "base_uri": "https://localhost:8080/"
        },
        "id": "WeasOrdqG8IC",
        "outputId": "507d2ae4-bf4a-4590-cf5c-9b94c05f9d96"
      },
      "outputs": [
        {
          "name": "stdout",
          "output_type": "stream",
          "text": [
            "WARNING:tensorflow:No training configuration found in the save file, so the model was *not* compiled. Compile it manually.\n",
            "Epoch 1/40\n"
          ]
        },
        {
          "name": "stderr",
          "output_type": "stream",
          "text": [
            "2023-11-03 01:29:08.188034: I tensorflow/compiler/xla/stream_executor/cuda/cuda_dnn.cc:442] Loaded cuDNN version 8700\n",
            "2023-11-03 01:29:11.170224: W tensorflow/tsl/framework/bfc_allocator.cc:296] Allocator (GPU_0_bfc) ran out of memory trying to allocate 1.07GiB with freed_by_count=0. The caller indicates that this is not a failure, but this may mean that there could be performance gains if more memory were available.\n",
            "2023-11-03 01:29:13.078862: W tensorflow/tsl/framework/bfc_allocator.cc:296] Allocator (GPU_0_bfc) ran out of memory trying to allocate 1.91GiB with freed_by_count=0. The caller indicates that this is not a failure, but this may mean that there could be performance gains if more memory were available.\n",
            "2023-11-03 01:29:13.078915: W tensorflow/tsl/framework/bfc_allocator.cc:296] Allocator (GPU_0_bfc) ran out of memory trying to allocate 3.67GiB with freed_by_count=0. The caller indicates that this is not a failure, but this may mean that there could be performance gains if more memory were available.\n",
            "2023-11-03 01:29:14.657915: W tensorflow/tsl/framework/bfc_allocator.cc:296] Allocator (GPU_0_bfc) ran out of memory trying to allocate 1.49GiB with freed_by_count=0. The caller indicates that this is not a failure, but this may mean that there could be performance gains if more memory were available.\n",
            "2023-11-03 01:29:15.077708: W tensorflow/tsl/framework/bfc_allocator.cc:296] Allocator (GPU_0_bfc) ran out of memory trying to allocate 1.18GiB with freed_by_count=0. The caller indicates that this is not a failure, but this may mean that there could be performance gains if more memory were available.\n",
            "2023-11-03 01:29:16.056399: I tensorflow/compiler/xla/service/service.cc:168] XLA service 0x18602900 initialized for platform CUDA (this does not guarantee that XLA will be used). Devices:\n",
            "2023-11-03 01:29:16.056440: I tensorflow/compiler/xla/service/service.cc:176]   StreamExecutor device (0): NVIDIA GeForce RTX 3050 Laptop GPU, Compute Capability 8.6\n",
            "2023-11-03 01:29:16.060782: I tensorflow/compiler/mlir/tensorflow/utils/dump_mlir_util.cc:269] disabling MLIR crash reproducer, set env var `MLIR_CRASH_REPRODUCER_DIRECTORY` to enable.\n",
            "2023-11-03 01:29:16.141355: I ./tensorflow/compiler/jit/device_compiler.h:186] Compiled cluster using XLA!  This line is logged at most once for the lifetime of the process.\n"
          ]
        },
        {
          "name": "stdout",
          "output_type": "stream",
          "text": [
            "138/181 [=====================>........] - ETA: 11s - loss: 1.3182 - accuracy: 0.5839"
          ]
        },
        {
          "name": "stderr",
          "output_type": "stream",
          "text": [
            "2023-11-03 01:29:54.082488: W tensorflow/core/lib/png/png_io.cc:88] PNG warning: iCCP: known incorrect sRGB profile\n"
          ]
        },
        {
          "name": "stdout",
          "output_type": "stream",
          "text": [
            "181/181 [==============================] - ETA: 0s - loss: 1.2420 - accuracy: 0.5994"
          ]
        },
        {
          "name": "stderr",
          "output_type": "stream",
          "text": [
            "2023-11-03 01:30:10.549781: W tensorflow/core/lib/png/png_io.cc:88] PNG warning: iCCP: known incorrect sRGB profile\n"
          ]
        },
        {
          "name": "stdout",
          "output_type": "stream",
          "text": [
            "181/181 [==============================] - 71s 347ms/step - loss: 1.2420 - accuracy: 0.5994 - val_loss: 0.9313 - val_accuracy: 0.6925\n",
            "Epoch 2/40\n",
            "138/181 [=====================>........] - ETA: 11s - loss: 0.7856 - accuracy: 0.7452"
          ]
        },
        {
          "name": "stderr",
          "output_type": "stream",
          "text": [
            "2023-11-03 01:30:56.253145: W tensorflow/core/lib/png/png_io.cc:88] PNG warning: iCCP: known incorrect sRGB profile\n"
          ]
        },
        {
          "name": "stdout",
          "output_type": "stream",
          "text": [
            "181/181 [==============================] - ETA: 0s - loss: 0.7843 - accuracy: 0.7380"
          ]
        },
        {
          "name": "stderr",
          "output_type": "stream",
          "text": [
            "2023-11-03 01:31:12.518119: W tensorflow/core/lib/png/png_io.cc:88] PNG warning: iCCP: known incorrect sRGB profile\n"
          ]
        },
        {
          "name": "stdout",
          "output_type": "stream",
          "text": [
            "181/181 [==============================] - 60s 331ms/step - loss: 0.7843 - accuracy: 0.7380 - val_loss: 0.7339 - val_accuracy: 0.7355\n",
            "Epoch 3/40\n",
            "138/181 [=====================>........] - ETA: 11s - loss: 0.6448 - accuracy: 0.7736"
          ]
        },
        {
          "name": "stderr",
          "output_type": "stream",
          "text": [
            "2023-11-03 01:31:56.566344: W tensorflow/core/lib/png/png_io.cc:88] PNG warning: iCCP: known incorrect sRGB profile\n"
          ]
        },
        {
          "name": "stdout",
          "output_type": "stream",
          "text": [
            "181/181 [==============================] - ETA: 0s - loss: 0.6530 - accuracy: 0.7652"
          ]
        },
        {
          "name": "stderr",
          "output_type": "stream",
          "text": [
            "2023-11-03 01:32:12.776156: W tensorflow/core/lib/png/png_io.cc:88] PNG warning: iCCP: known incorrect sRGB profile\n"
          ]
        },
        {
          "name": "stdout",
          "output_type": "stream",
          "text": [
            "181/181 [==============================] - 60s 330ms/step - loss: 0.6530 - accuracy: 0.7652 - val_loss: 0.6437 - val_accuracy: 0.7753\n",
            "Epoch 4/40\n",
            "138/181 [=====================>........] - ETA: 12s - loss: 0.5702 - accuracy: 0.7995"
          ]
        },
        {
          "name": "stderr",
          "output_type": "stream",
          "text": [
            "2023-11-03 01:32:59.468324: W tensorflow/core/lib/png/png_io.cc:88] PNG warning: iCCP: known incorrect sRGB profile\n"
          ]
        },
        {
          "name": "stdout",
          "output_type": "stream",
          "text": [
            "181/181 [==============================] - ETA: 0s - loss: 0.5827 - accuracy: 0.7901"
          ]
        },
        {
          "name": "stderr",
          "output_type": "stream",
          "text": [
            "2023-11-03 01:33:16.224769: W tensorflow/core/lib/png/png_io.cc:88] PNG warning: iCCP: known incorrect sRGB profile\n"
          ]
        },
        {
          "name": "stdout",
          "output_type": "stream",
          "text": [
            "181/181 [==============================] - 63s 348ms/step - loss: 0.5827 - accuracy: 0.7901 - val_loss: 0.5871 - val_accuracy: 0.7946\n",
            "Epoch 5/40\n",
            "138/181 [=====================>........] - ETA: 11s - loss: 0.5185 - accuracy: 0.8188"
          ]
        },
        {
          "name": "stderr",
          "output_type": "stream",
          "text": [
            "2023-11-03 01:33:59.755831: W tensorflow/core/lib/png/png_io.cc:88] PNG warning: iCCP: known incorrect sRGB profile\n"
          ]
        },
        {
          "name": "stdout",
          "output_type": "stream",
          "text": [
            "181/181 [==============================] - ETA: 0s - loss: 0.5339 - accuracy: 0.8108"
          ]
        },
        {
          "name": "stderr",
          "output_type": "stream",
          "text": [
            "2023-11-03 01:34:15.566154: W tensorflow/core/lib/png/png_io.cc:88] PNG warning: iCCP: known incorrect sRGB profile\n"
          ]
        },
        {
          "name": "stdout",
          "output_type": "stream",
          "text": [
            "181/181 [==============================] - 59s 326ms/step - loss: 0.5339 - accuracy: 0.8108 - val_loss: 0.5472 - val_accuracy: 0.8065\n",
            "Epoch 6/40\n",
            "138/181 [=====================>........] - ETA: 11s - loss: 0.4768 - accuracy: 0.8388"
          ]
        },
        {
          "name": "stderr",
          "output_type": "stream",
          "text": [
            "2023-11-03 01:34:59.439120: W tensorflow/core/lib/png/png_io.cc:88] PNG warning: iCCP: known incorrect sRGB profile\n"
          ]
        },
        {
          "name": "stdout",
          "output_type": "stream",
          "text": [
            "181/181 [==============================] - ETA: 0s - loss: 0.4948 - accuracy: 0.8278"
          ]
        },
        {
          "name": "stderr",
          "output_type": "stream",
          "text": [
            "2023-11-03 01:35:15.162346: W tensorflow/core/lib/png/png_io.cc:88] PNG warning: iCCP: known incorrect sRGB profile\n"
          ]
        },
        {
          "name": "stdout",
          "output_type": "stream",
          "text": [
            "181/181 [==============================] - 59s 326ms/step - loss: 0.4948 - accuracy: 0.8278 - val_loss: 0.5178 - val_accuracy: 0.8194\n",
            "Epoch 7/40\n",
            "138/181 [=====================>........] - ETA: 11s - loss: 0.4529 - accuracy: 0.8424"
          ]
        },
        {
          "name": "stderr",
          "output_type": "stream",
          "text": [
            "2023-11-03 01:35:59.382345: W tensorflow/core/lib/png/png_io.cc:88] PNG warning: iCCP: known incorrect sRGB profile\n"
          ]
        },
        {
          "name": "stdout",
          "output_type": "stream",
          "text": [
            "181/181 [==============================] - ETA: 0s - loss: 0.4667 - accuracy: 0.8416"
          ]
        },
        {
          "name": "stderr",
          "output_type": "stream",
          "text": [
            "2023-11-03 01:36:18.394998: W tensorflow/core/lib/png/png_io.cc:88] PNG warning: iCCP: known incorrect sRGB profile\n"
          ]
        },
        {
          "name": "stdout",
          "output_type": "stream",
          "text": [
            "181/181 [==============================] - 64s 350ms/step - loss: 0.4667 - accuracy: 0.8416 - val_loss: 0.4941 - val_accuracy: 0.8323\n",
            "Epoch 8/40\n",
            "138/181 [=====================>........] - ETA: 11s - loss: 0.4255 - accuracy: 0.8551"
          ]
        },
        {
          "name": "stderr",
          "output_type": "stream",
          "text": [
            "2023-11-03 01:37:02.791944: W tensorflow/core/lib/png/png_io.cc:88] PNG warning: iCCP: known incorrect sRGB profile\n"
          ]
        },
        {
          "name": "stdout",
          "output_type": "stream",
          "text": [
            "181/181 [==============================] - ETA: 0s - loss: 0.4408 - accuracy: 0.8513"
          ]
        },
        {
          "name": "stderr",
          "output_type": "stream",
          "text": [
            "2023-11-03 01:37:21.568535: W tensorflow/core/lib/png/png_io.cc:88] PNG warning: iCCP: known incorrect sRGB profile\n"
          ]
        },
        {
          "name": "stdout",
          "output_type": "stream",
          "text": [
            "181/181 [==============================] - 64s 352ms/step - loss: 0.4408 - accuracy: 0.8513 - val_loss: 0.4745 - val_accuracy: 0.8376\n",
            "Epoch 9/40\n",
            "138/181 [=====================>........] - ETA: 12s - loss: 0.4052 - accuracy: 0.8563"
          ]
        },
        {
          "name": "stderr",
          "output_type": "stream",
          "text": [
            "2023-11-03 01:38:10.820889: W tensorflow/core/lib/png/png_io.cc:88] PNG warning: iCCP: known incorrect sRGB profile\n"
          ]
        },
        {
          "name": "stdout",
          "output_type": "stream",
          "text": [
            "181/181 [==============================] - ETA: 0s - loss: 0.4228 - accuracy: 0.8527"
          ]
        },
        {
          "name": "stderr",
          "output_type": "stream",
          "text": [
            "2023-11-03 01:38:27.816698: W tensorflow/core/lib/png/png_io.cc:88] PNG warning: iCCP: known incorrect sRGB profile\n"
          ]
        },
        {
          "name": "stdout",
          "output_type": "stream",
          "text": [
            "181/181 [==============================] - 66s 361ms/step - loss: 0.4228 - accuracy: 0.8527 - val_loss: 0.4587 - val_accuracy: 0.8441\n",
            "Epoch 10/40\n",
            "138/181 [=====================>........] - ETA: 13s - loss: 0.3933 - accuracy: 0.8678"
          ]
        },
        {
          "name": "stderr",
          "output_type": "stream",
          "text": [
            "2023-11-03 01:39:18.054819: W tensorflow/core/lib/png/png_io.cc:88] PNG warning: iCCP: known incorrect sRGB profile\n"
          ]
        },
        {
          "name": "stdout",
          "output_type": "stream",
          "text": [
            "181/181 [==============================] - ETA: 0s - loss: 0.4049 - accuracy: 0.8669"
          ]
        },
        {
          "name": "stderr",
          "output_type": "stream",
          "text": [
            "2023-11-03 01:39:36.806351: W tensorflow/core/lib/png/png_io.cc:88] PNG warning: iCCP: known incorrect sRGB profile\n"
          ]
        },
        {
          "name": "stdout",
          "output_type": "stream",
          "text": [
            "181/181 [==============================] - 68s 372ms/step - loss: 0.4049 - accuracy: 0.8669 - val_loss: 0.4453 - val_accuracy: 0.8452\n",
            "Epoch 11/40\n",
            "138/181 [=====================>........] - ETA: 11s - loss: 0.3703 - accuracy: 0.8780"
          ]
        },
        {
          "name": "stderr",
          "output_type": "stream",
          "text": [
            "2023-11-03 01:40:20.964141: W tensorflow/core/lib/png/png_io.cc:88] PNG warning: iCCP: known incorrect sRGB profile\n"
          ]
        },
        {
          "name": "stdout",
          "output_type": "stream",
          "text": [
            "181/181 [==============================] - ETA: 0s - loss: 0.3870 - accuracy: 0.8752"
          ]
        },
        {
          "name": "stderr",
          "output_type": "stream",
          "text": [
            "2023-11-03 01:40:36.840893: W tensorflow/core/lib/png/png_io.cc:88] PNG warning: iCCP: known incorrect sRGB profile\n"
          ]
        },
        {
          "name": "stdout",
          "output_type": "stream",
          "text": [
            "181/181 [==============================] - 60s 329ms/step - loss: 0.3870 - accuracy: 0.8752 - val_loss: 0.4330 - val_accuracy: 0.8527\n",
            "Epoch 12/40\n",
            "138/181 [=====================>........] - ETA: 11s - loss: 0.3614 - accuracy: 0.8768"
          ]
        },
        {
          "name": "stderr",
          "output_type": "stream",
          "text": [
            "2023-11-03 01:41:20.820811: W tensorflow/core/lib/png/png_io.cc:88] PNG warning: iCCP: known incorrect sRGB profile\n"
          ]
        },
        {
          "name": "stdout",
          "output_type": "stream",
          "text": [
            "181/181 [==============================] - ETA: 0s - loss: 0.3736 - accuracy: 0.8780"
          ]
        },
        {
          "name": "stderr",
          "output_type": "stream",
          "text": [
            "2023-11-03 01:41:36.742107: W tensorflow/core/lib/png/png_io.cc:88] PNG warning: iCCP: known incorrect sRGB profile\n"
          ]
        },
        {
          "name": "stdout",
          "output_type": "stream",
          "text": [
            "181/181 [==============================] - 60s 328ms/step - loss: 0.3736 - accuracy: 0.8780 - val_loss: 0.4250 - val_accuracy: 0.8462\n",
            "Epoch 13/40\n",
            "138/181 [=====================>........] - ETA: 12s - loss: 0.3488 - accuracy: 0.8865"
          ]
        },
        {
          "name": "stderr",
          "output_type": "stream",
          "text": [
            "2023-11-03 01:42:25.484077: W tensorflow/core/lib/png/png_io.cc:88] PNG warning: iCCP: known incorrect sRGB profile\n"
          ]
        },
        {
          "name": "stdout",
          "output_type": "stream",
          "text": [
            "181/181 [==============================] - ETA: 0s - loss: 0.3620 - accuracy: 0.8812"
          ]
        },
        {
          "name": "stderr",
          "output_type": "stream",
          "text": [
            "2023-11-03 01:42:43.848755: W tensorflow/core/lib/png/png_io.cc:88] PNG warning: iCCP: known incorrect sRGB profile\n"
          ]
        },
        {
          "name": "stdout",
          "output_type": "stream",
          "text": [
            "181/181 [==============================] - 68s 375ms/step - loss: 0.3620 - accuracy: 0.8812 - val_loss: 0.4166 - val_accuracy: 0.8462\n",
            "Epoch 14/40\n",
            "138/181 [=====================>........] - ETA: 13s - loss: 0.3376 - accuracy: 0.8871"
          ]
        },
        {
          "name": "stderr",
          "output_type": "stream",
          "text": [
            "2023-11-03 01:43:35.171612: W tensorflow/core/lib/png/png_io.cc:88] PNG warning: iCCP: known incorrect sRGB profile\n"
          ]
        },
        {
          "name": "stdout",
          "output_type": "stream",
          "text": [
            "181/181 [==============================] - ETA: 0s - loss: 0.3519 - accuracy: 0.8849"
          ]
        },
        {
          "name": "stderr",
          "output_type": "stream",
          "text": [
            "2023-11-03 01:43:54.573852: W tensorflow/core/lib/png/png_io.cc:88] PNG warning: iCCP: known incorrect sRGB profile\n"
          ]
        },
        {
          "name": "stdout",
          "output_type": "stream",
          "text": [
            "181/181 [==============================] - 72s 395ms/step - loss: 0.3519 - accuracy: 0.8849 - val_loss: 0.4081 - val_accuracy: 0.8570\n",
            "Epoch 15/40\n",
            "138/181 [=====================>........] - ETA: 12s - loss: 0.3257 - accuracy: 0.8925"
          ]
        },
        {
          "name": "stderr",
          "output_type": "stream",
          "text": [
            "2023-11-03 01:44:45.905627: W tensorflow/core/lib/png/png_io.cc:88] PNG warning: iCCP: known incorrect sRGB profile\n"
          ]
        },
        {
          "name": "stdout",
          "output_type": "stream",
          "text": [
            "181/181 [==============================] - ETA: 0s - loss: 0.3390 - accuracy: 0.8913"
          ]
        },
        {
          "name": "stderr",
          "output_type": "stream",
          "text": [
            "2023-11-03 01:45:04.672119: W tensorflow/core/lib/png/png_io.cc:88] PNG warning: iCCP: known incorrect sRGB profile\n"
          ]
        },
        {
          "name": "stdout",
          "output_type": "stream",
          "text": [
            "181/181 [==============================] - 69s 378ms/step - loss: 0.3390 - accuracy: 0.8913 - val_loss: 0.4009 - val_accuracy: 0.8645\n",
            "Epoch 16/40\n",
            "138/181 [=====================>........] - ETA: 13s - loss: 0.3198 - accuracy: 0.8901"
          ]
        },
        {
          "name": "stderr",
          "output_type": "stream",
          "text": [
            "2023-11-03 01:45:55.668719: W tensorflow/core/lib/png/png_io.cc:88] PNG warning: iCCP: known incorrect sRGB profile\n"
          ]
        },
        {
          "name": "stdout",
          "output_type": "stream",
          "text": [
            "181/181 [==============================] - ETA: 0s - loss: 0.3307 - accuracy: 0.8900"
          ]
        },
        {
          "name": "stderr",
          "output_type": "stream",
          "text": [
            "2023-11-03 01:46:14.463635: W tensorflow/core/lib/png/png_io.cc:88] PNG warning: iCCP: known incorrect sRGB profile\n"
          ]
        },
        {
          "name": "stdout",
          "output_type": "stream",
          "text": [
            "181/181 [==============================] - 70s 383ms/step - loss: 0.3307 - accuracy: 0.8900 - val_loss: 0.3957 - val_accuracy: 0.8602\n",
            "Epoch 17/40\n",
            "138/181 [=====================>........] - ETA: 13s - loss: 0.3096 - accuracy: 0.9040"
          ]
        },
        {
          "name": "stderr",
          "output_type": "stream",
          "text": [
            "2023-11-03 01:47:05.124498: W tensorflow/core/lib/png/png_io.cc:88] PNG warning: iCCP: known incorrect sRGB profile\n"
          ]
        },
        {
          "name": "stdout",
          "output_type": "stream",
          "text": [
            "181/181 [==============================] - ETA: 0s - loss: 0.3207 - accuracy: 0.9019"
          ]
        },
        {
          "name": "stderr",
          "output_type": "stream",
          "text": [
            "2023-11-03 01:47:23.366689: W tensorflow/core/lib/png/png_io.cc:88] PNG warning: iCCP: known incorrect sRGB profile\n"
          ]
        },
        {
          "name": "stdout",
          "output_type": "stream",
          "text": [
            "181/181 [==============================] - 69s 377ms/step - loss: 0.3207 - accuracy: 0.9019 - val_loss: 0.3876 - val_accuracy: 0.8602\n",
            "Epoch 18/40\n",
            "138/181 [=====================>........] - ETA: 13s - loss: 0.2998 - accuracy: 0.9028"
          ]
        },
        {
          "name": "stderr",
          "output_type": "stream",
          "text": [
            "2023-11-03 01:48:14.123090: W tensorflow/core/lib/png/png_io.cc:88] PNG warning: iCCP: known incorrect sRGB profile\n"
          ]
        },
        {
          "name": "stdout",
          "output_type": "stream",
          "text": [
            "181/181 [==============================] - ETA: 0s - loss: 0.3122 - accuracy: 0.9019"
          ]
        },
        {
          "name": "stderr",
          "output_type": "stream",
          "text": [
            "2023-11-03 01:48:32.322819: W tensorflow/core/lib/png/png_io.cc:88] PNG warning: iCCP: known incorrect sRGB profile\n"
          ]
        },
        {
          "name": "stdout",
          "output_type": "stream",
          "text": [
            "181/181 [==============================] - 69s 376ms/step - loss: 0.3122 - accuracy: 0.9019 - val_loss: 0.3835 - val_accuracy: 0.8591\n",
            "Epoch 19/40\n",
            "138/181 [=====================>........] - ETA: 12s - loss: 0.2871 - accuracy: 0.9106"
          ]
        },
        {
          "name": "stderr",
          "output_type": "stream",
          "text": [
            "2023-11-03 01:49:22.375158: W tensorflow/core/lib/png/png_io.cc:88] PNG warning: iCCP: known incorrect sRGB profile\n"
          ]
        },
        {
          "name": "stdout",
          "output_type": "stream",
          "text": [
            "181/181 [==============================] - ETA: 0s - loss: 0.3034 - accuracy: 0.9047"
          ]
        },
        {
          "name": "stderr",
          "output_type": "stream",
          "text": [
            "2023-11-03 01:49:40.990306: W tensorflow/core/lib/png/png_io.cc:88] PNG warning: iCCP: known incorrect sRGB profile\n"
          ]
        },
        {
          "name": "stdout",
          "output_type": "stream",
          "text": [
            "181/181 [==============================] - 69s 376ms/step - loss: 0.3034 - accuracy: 0.9047 - val_loss: 0.3792 - val_accuracy: 0.8602\n",
            "Epoch 20/40\n",
            "138/181 [=====================>........] - ETA: 12s - loss: 0.2847 - accuracy: 0.9094"
          ]
        },
        {
          "name": "stderr",
          "output_type": "stream",
          "text": [
            "2023-11-03 01:50:30.917953: W tensorflow/core/lib/png/png_io.cc:88] PNG warning: iCCP: known incorrect sRGB profile\n"
          ]
        },
        {
          "name": "stdout",
          "output_type": "stream",
          "text": [
            "181/181 [==============================] - ETA: 0s - loss: 0.2971 - accuracy: 0.9056"
          ]
        },
        {
          "name": "stderr",
          "output_type": "stream",
          "text": [
            "2023-11-03 01:50:49.185965: W tensorflow/core/lib/png/png_io.cc:88] PNG warning: iCCP: known incorrect sRGB profile\n"
          ]
        },
        {
          "name": "stdout",
          "output_type": "stream",
          "text": [
            "181/181 [==============================] - 68s 373ms/step - loss: 0.2971 - accuracy: 0.9056 - val_loss: 0.3730 - val_accuracy: 0.8570\n",
            "Epoch 21/40\n",
            "138/181 [=====================>........] - ETA: 12s - loss: 0.2794 - accuracy: 0.9100"
          ]
        },
        {
          "name": "stderr",
          "output_type": "stream",
          "text": [
            "2023-11-03 01:51:39.014430: W tensorflow/core/lib/png/png_io.cc:88] PNG warning: iCCP: known incorrect sRGB profile\n"
          ]
        },
        {
          "name": "stdout",
          "output_type": "stream",
          "text": [
            "181/181 [==============================] - ETA: 0s - loss: 0.2893 - accuracy: 0.9102"
          ]
        },
        {
          "name": "stderr",
          "output_type": "stream",
          "text": [
            "2023-11-03 01:51:57.240104: W tensorflow/core/lib/png/png_io.cc:88] PNG warning: iCCP: known incorrect sRGB profile\n"
          ]
        },
        {
          "name": "stdout",
          "output_type": "stream",
          "text": [
            "181/181 [==============================] - 68s 376ms/step - loss: 0.2893 - accuracy: 0.9102 - val_loss: 0.3706 - val_accuracy: 0.8581\n",
            "Epoch 22/40\n",
            "138/181 [=====================>........] - ETA: 12s - loss: 0.2703 - accuracy: 0.9124"
          ]
        },
        {
          "name": "stderr",
          "output_type": "stream",
          "text": [
            "2023-11-03 01:52:46.968435: W tensorflow/core/lib/png/png_io.cc:88] PNG warning: iCCP: known incorrect sRGB profile\n"
          ]
        },
        {
          "name": "stdout",
          "output_type": "stream",
          "text": [
            "181/181 [==============================] - ETA: 0s - loss: 0.2823 - accuracy: 0.9107"
          ]
        },
        {
          "name": "stderr",
          "output_type": "stream",
          "text": [
            "2023-11-03 01:53:06.611506: W tensorflow/core/lib/png/png_io.cc:88] PNG warning: iCCP: known incorrect sRGB profile\n"
          ]
        },
        {
          "name": "stdout",
          "output_type": "stream",
          "text": [
            "181/181 [==============================] - 69s 381ms/step - loss: 0.2823 - accuracy: 0.9107 - val_loss: 0.3659 - val_accuracy: 0.8677\n",
            "Epoch 23/40\n",
            "138/181 [=====================>........] - ETA: 13s - loss: 0.2638 - accuracy: 0.9130"
          ]
        },
        {
          "name": "stderr",
          "output_type": "stream",
          "text": [
            "2023-11-03 01:53:57.756723: W tensorflow/core/lib/png/png_io.cc:88] PNG warning: iCCP: known incorrect sRGB profile\n"
          ]
        },
        {
          "name": "stdout",
          "output_type": "stream",
          "text": [
            "181/181 [==============================] - ETA: 0s - loss: 0.2751 - accuracy: 0.9116"
          ]
        },
        {
          "name": "stderr",
          "output_type": "stream",
          "text": [
            "2023-11-03 01:54:15.805004: W tensorflow/core/lib/png/png_io.cc:88] PNG warning: iCCP: known incorrect sRGB profile\n"
          ]
        },
        {
          "name": "stdout",
          "output_type": "stream",
          "text": [
            "181/181 [==============================] - 69s 377ms/step - loss: 0.2751 - accuracy: 0.9116 - val_loss: 0.3608 - val_accuracy: 0.8624\n",
            "Epoch 24/40\n",
            "138/181 [=====================>........] - ETA: 12s - loss: 0.2622 - accuracy: 0.9161"
          ]
        },
        {
          "name": "stderr",
          "output_type": "stream",
          "text": [
            "2023-11-03 01:55:04.454087: W tensorflow/core/lib/png/png_io.cc:88] PNG warning: iCCP: known incorrect sRGB profile\n"
          ]
        },
        {
          "name": "stdout",
          "output_type": "stream",
          "text": [
            "181/181 [==============================] - ETA: 0s - loss: 0.2714 - accuracy: 0.9157"
          ]
        },
        {
          "name": "stderr",
          "output_type": "stream",
          "text": [
            "2023-11-03 01:55:20.945086: W tensorflow/core/lib/png/png_io.cc:88] PNG warning: iCCP: known incorrect sRGB profile\n"
          ]
        },
        {
          "name": "stdout",
          "output_type": "stream",
          "text": [
            "181/181 [==============================] - 64s 347ms/step - loss: 0.2714 - accuracy: 0.9157 - val_loss: 0.3584 - val_accuracy: 0.8656\n",
            "Epoch 25/40\n",
            "138/181 [=====================>........] - ETA: 11s - loss: 0.2565 - accuracy: 0.9197"
          ]
        },
        {
          "name": "stderr",
          "output_type": "stream",
          "text": [
            "2023-11-03 01:56:03.973219: W tensorflow/core/lib/png/png_io.cc:88] PNG warning: iCCP: known incorrect sRGB profile\n"
          ]
        },
        {
          "name": "stdout",
          "output_type": "stream",
          "text": [
            "181/181 [==============================] - ETA: 0s - loss: 0.2637 - accuracy: 0.9190"
          ]
        },
        {
          "name": "stderr",
          "output_type": "stream",
          "text": [
            "2023-11-03 01:56:19.576582: W tensorflow/core/lib/png/png_io.cc:88] PNG warning: iCCP: known incorrect sRGB profile\n"
          ]
        },
        {
          "name": "stdout",
          "output_type": "stream",
          "text": [
            "181/181 [==============================] - 59s 322ms/step - loss: 0.2637 - accuracy: 0.9190 - val_loss: 0.3553 - val_accuracy: 0.8667\n",
            "Epoch 26/40\n",
            "138/181 [=====================>........] - ETA: 11s - loss: 0.2455 - accuracy: 0.9245"
          ]
        },
        {
          "name": "stderr",
          "output_type": "stream",
          "text": [
            "2023-11-03 01:57:01.767123: W tensorflow/core/lib/png/png_io.cc:88] PNG warning: iCCP: known incorrect sRGB profile\n"
          ]
        },
        {
          "name": "stdout",
          "output_type": "stream",
          "text": [
            "181/181 [==============================] - ETA: 0s - loss: 0.2580 - accuracy: 0.9231"
          ]
        },
        {
          "name": "stderr",
          "output_type": "stream",
          "text": [
            "2023-11-03 01:57:17.147850: W tensorflow/core/lib/png/png_io.cc:88] PNG warning: iCCP: known incorrect sRGB profile\n"
          ]
        },
        {
          "name": "stdout",
          "output_type": "stream",
          "text": [
            "181/181 [==============================] - 58s 320ms/step - loss: 0.2580 - accuracy: 0.9231 - val_loss: 0.3523 - val_accuracy: 0.8667\n",
            "Epoch 27/40\n",
            "138/181 [=====================>........] - ETA: 10s - loss: 0.2439 - accuracy: 0.9245"
          ]
        },
        {
          "name": "stderr",
          "output_type": "stream",
          "text": [
            "2023-11-03 01:57:58.995611: W tensorflow/core/lib/png/png_io.cc:88] PNG warning: iCCP: known incorrect sRGB profile\n"
          ]
        },
        {
          "name": "stdout",
          "output_type": "stream",
          "text": [
            "181/181 [==============================] - ETA: 0s - loss: 0.2537 - accuracy: 0.9203"
          ]
        },
        {
          "name": "stderr",
          "output_type": "stream",
          "text": [
            "2023-11-03 01:58:17.555341: W tensorflow/core/lib/png/png_io.cc:88] PNG warning: iCCP: known incorrect sRGB profile\n"
          ]
        },
        {
          "name": "stdout",
          "output_type": "stream",
          "text": [
            "181/181 [==============================] - 61s 334ms/step - loss: 0.2537 - accuracy: 0.9203 - val_loss: 0.3509 - val_accuracy: 0.8667\n",
            "Epoch 28/40\n",
            "138/181 [=====================>........] - ETA: 11s - loss: 0.2359 - accuracy: 0.9239"
          ]
        },
        {
          "name": "stderr",
          "output_type": "stream",
          "text": [
            "2023-11-03 01:59:02.404770: W tensorflow/core/lib/png/png_io.cc:88] PNG warning: iCCP: known incorrect sRGB profile\n"
          ]
        },
        {
          "name": "stdout",
          "output_type": "stream",
          "text": [
            "181/181 [==============================] - ETA: 0s - loss: 0.2478 - accuracy: 0.9217"
          ]
        },
        {
          "name": "stderr",
          "output_type": "stream",
          "text": [
            "2023-11-03 01:59:18.385034: W tensorflow/core/lib/png/png_io.cc:88] PNG warning: iCCP: known incorrect sRGB profile\n"
          ]
        },
        {
          "name": "stdout",
          "output_type": "stream",
          "text": [
            "181/181 [==============================] - 60s 329ms/step - loss: 0.2478 - accuracy: 0.9217 - val_loss: 0.3481 - val_accuracy: 0.8656\n",
            "Epoch 29/40\n",
            "138/181 [=====================>........] - ETA: 11s - loss: 0.2271 - accuracy: 0.9324"
          ]
        },
        {
          "name": "stderr",
          "output_type": "stream",
          "text": [
            "2023-11-03 02:00:02.400377: W tensorflow/core/lib/png/png_io.cc:88] PNG warning: iCCP: known incorrect sRGB profile\n"
          ]
        },
        {
          "name": "stdout",
          "output_type": "stream",
          "text": [
            "181/181 [==============================] - ETA: 0s - loss: 0.2421 - accuracy: 0.9277"
          ]
        },
        {
          "name": "stderr",
          "output_type": "stream",
          "text": [
            "2023-11-03 02:00:18.341358: W tensorflow/core/lib/png/png_io.cc:88] PNG warning: iCCP: known incorrect sRGB profile\n"
          ]
        },
        {
          "name": "stdout",
          "output_type": "stream",
          "text": [
            "181/181 [==============================] - 60s 328ms/step - loss: 0.2421 - accuracy: 0.9277 - val_loss: 0.3456 - val_accuracy: 0.8688\n",
            "Epoch 30/40\n",
            "138/181 [=====================>........] - ETA: 11s - loss: 0.2265 - accuracy: 0.9263"
          ]
        },
        {
          "name": "stderr",
          "output_type": "stream",
          "text": [
            "2023-11-03 02:01:03.269378: W tensorflow/core/lib/png/png_io.cc:88] PNG warning: iCCP: known incorrect sRGB profile\n"
          ]
        },
        {
          "name": "stdout",
          "output_type": "stream",
          "text": [
            "181/181 [==============================] - ETA: 0s - loss: 0.2378 - accuracy: 0.9236"
          ]
        },
        {
          "name": "stderr",
          "output_type": "stream",
          "text": [
            "2023-11-03 02:01:19.598226: W tensorflow/core/lib/png/png_io.cc:88] PNG warning: iCCP: known incorrect sRGB profile\n"
          ]
        },
        {
          "name": "stdout",
          "output_type": "stream",
          "text": [
            "181/181 [==============================] - 61s 336ms/step - loss: 0.2378 - accuracy: 0.9236 - val_loss: 0.3433 - val_accuracy: 0.8720\n",
            "Epoch 31/40\n",
            "138/181 [=====================>........] - ETA: 13s - loss: 0.2245 - accuracy: 0.9281"
          ]
        },
        {
          "name": "stderr",
          "output_type": "stream",
          "text": [
            "2023-11-03 02:02:08.761223: W tensorflow/core/lib/png/png_io.cc:88] PNG warning: iCCP: known incorrect sRGB profile\n"
          ]
        },
        {
          "name": "stdout",
          "output_type": "stream",
          "text": [
            "181/181 [==============================] - ETA: 0s - loss: 0.2327 - accuracy: 0.9277"
          ]
        },
        {
          "name": "stderr",
          "output_type": "stream",
          "text": [
            "2023-11-03 02:02:27.873525: W tensorflow/core/lib/png/png_io.cc:88] PNG warning: iCCP: known incorrect sRGB profile\n"
          ]
        },
        {
          "name": "stdout",
          "output_type": "stream",
          "text": [
            "181/181 [==============================] - 69s 378ms/step - loss: 0.2327 - accuracy: 0.9277 - val_loss: 0.3417 - val_accuracy: 0.8720\n",
            "Epoch 32/40\n",
            "138/181 [=====================>........] - ETA: 11s - loss: 0.2179 - accuracy: 0.9318"
          ]
        },
        {
          "name": "stderr",
          "output_type": "stream",
          "text": [
            "2023-11-03 02:03:12.816881: W tensorflow/core/lib/png/png_io.cc:88] PNG warning: iCCP: known incorrect sRGB profile\n"
          ]
        },
        {
          "name": "stdout",
          "output_type": "stream",
          "text": [
            "181/181 [==============================] - ETA: 0s - loss: 0.2294 - accuracy: 0.9296"
          ]
        },
        {
          "name": "stderr",
          "output_type": "stream",
          "text": [
            "2023-11-03 02:03:28.822049: W tensorflow/core/lib/png/png_io.cc:88] PNG warning: iCCP: known incorrect sRGB profile\n"
          ]
        },
        {
          "name": "stdout",
          "output_type": "stream",
          "text": [
            "181/181 [==============================] - 60s 331ms/step - loss: 0.2294 - accuracy: 0.9296 - val_loss: 0.3419 - val_accuracy: 0.8667\n",
            "Epoch 33/40\n",
            "138/181 [=====================>........] - ETA: 11s - loss: 0.2167 - accuracy: 0.9312"
          ]
        },
        {
          "name": "stderr",
          "output_type": "stream",
          "text": [
            "2023-11-03 02:04:13.396411: W tensorflow/core/lib/png/png_io.cc:88] PNG warning: iCCP: known incorrect sRGB profile\n"
          ]
        },
        {
          "name": "stdout",
          "output_type": "stream",
          "text": [
            "181/181 [==============================] - ETA: 0s - loss: 0.2247 - accuracy: 0.9309"
          ]
        },
        {
          "name": "stderr",
          "output_type": "stream",
          "text": [
            "2023-11-03 02:04:29.366356: W tensorflow/core/lib/png/png_io.cc:88] PNG warning: iCCP: known incorrect sRGB profile\n"
          ]
        },
        {
          "name": "stdout",
          "output_type": "stream",
          "text": [
            "181/181 [==============================] - 61s 332ms/step - loss: 0.2247 - accuracy: 0.9309 - val_loss: 0.3390 - val_accuracy: 0.8720\n",
            "Epoch 34/40\n",
            "138/181 [=====================>........] - ETA: 13s - loss: 0.2109 - accuracy: 0.9336"
          ]
        },
        {
          "name": "stderr",
          "output_type": "stream",
          "text": [
            "2023-11-03 02:05:19.238401: W tensorflow/core/lib/png/png_io.cc:88] PNG warning: iCCP: known incorrect sRGB profile\n"
          ]
        },
        {
          "name": "stdout",
          "output_type": "stream",
          "text": [
            "181/181 [==============================] - ETA: 0s - loss: 0.2206 - accuracy: 0.9319"
          ]
        },
        {
          "name": "stderr",
          "output_type": "stream",
          "text": [
            "2023-11-03 02:05:37.736301: W tensorflow/core/lib/png/png_io.cc:88] PNG warning: iCCP: known incorrect sRGB profile\n"
          ]
        },
        {
          "name": "stdout",
          "output_type": "stream",
          "text": [
            "181/181 [==============================] - 70s 382ms/step - loss: 0.2206 - accuracy: 0.9319 - val_loss: 0.3383 - val_accuracy: 0.8710\n",
            "Epoch 35/40\n",
            "138/181 [=====================>........] - ETA: 12s - loss: 0.2103 - accuracy: 0.9330"
          ]
        },
        {
          "name": "stderr",
          "output_type": "stream",
          "text": [
            "2023-11-03 02:06:27.895654: W tensorflow/core/lib/png/png_io.cc:88] PNG warning: iCCP: known incorrect sRGB profile\n"
          ]
        },
        {
          "name": "stdout",
          "output_type": "stream",
          "text": [
            "181/181 [==============================] - ETA: 0s - loss: 0.2173 - accuracy: 0.9328"
          ]
        },
        {
          "name": "stderr",
          "output_type": "stream",
          "text": [
            "2023-11-03 02:06:46.477486: W tensorflow/core/lib/png/png_io.cc:88] PNG warning: iCCP: known incorrect sRGB profile\n"
          ]
        },
        {
          "name": "stdout",
          "output_type": "stream",
          "text": [
            "181/181 [==============================] - 69s 376ms/step - loss: 0.2173 - accuracy: 0.9328 - val_loss: 0.3403 - val_accuracy: 0.8677\n",
            "Epoch 36/40\n",
            "138/181 [=====================>........] - ETA: 13s - loss: 0.2040 - accuracy: 0.9366"
          ]
        },
        {
          "name": "stderr",
          "output_type": "stream",
          "text": [
            "2023-11-03 02:07:38.967326: W tensorflow/core/lib/png/png_io.cc:88] PNG warning: iCCP: known incorrect sRGB profile\n"
          ]
        },
        {
          "name": "stdout",
          "output_type": "stream",
          "text": [
            "181/181 [==============================] - ETA: 0s - loss: 0.2132 - accuracy: 0.9360"
          ]
        },
        {
          "name": "stderr",
          "output_type": "stream",
          "text": [
            "2023-11-03 02:07:56.951061: W tensorflow/core/lib/png/png_io.cc:88] PNG warning: iCCP: known incorrect sRGB profile\n"
          ]
        },
        {
          "name": "stdout",
          "output_type": "stream",
          "text": [
            "181/181 [==============================] - 70s 387ms/step - loss: 0.2132 - accuracy: 0.9360 - val_loss: 0.3370 - val_accuracy: 0.8742\n",
            "Epoch 37/40\n",
            "138/181 [=====================>........] - ETA: 12s - loss: 0.2024 - accuracy: 0.9366"
          ]
        },
        {
          "name": "stderr",
          "output_type": "stream",
          "text": [
            "2023-11-03 02:08:47.009487: W tensorflow/core/lib/png/png_io.cc:88] PNG warning: iCCP: known incorrect sRGB profile\n"
          ]
        },
        {
          "name": "stdout",
          "output_type": "stream",
          "text": [
            "181/181 [==============================] - ETA: 0s - loss: 0.2094 - accuracy: 0.9374"
          ]
        },
        {
          "name": "stderr",
          "output_type": "stream",
          "text": [
            "2023-11-03 02:09:05.293013: W tensorflow/core/lib/png/png_io.cc:88] PNG warning: iCCP: known incorrect sRGB profile\n"
          ]
        },
        {
          "name": "stdout",
          "output_type": "stream",
          "text": [
            "181/181 [==============================] - 68s 374ms/step - loss: 0.2094 - accuracy: 0.9374 - val_loss: 0.3335 - val_accuracy: 0.8710\n",
            "Epoch 38/40\n",
            "138/181 [=====================>........] - ETA: 12s - loss: 0.1951 - accuracy: 0.9378"
          ]
        },
        {
          "name": "stderr",
          "output_type": "stream",
          "text": [
            "2023-11-03 02:09:54.456587: W tensorflow/core/lib/png/png_io.cc:88] PNG warning: iCCP: known incorrect sRGB profile\n"
          ]
        },
        {
          "name": "stdout",
          "output_type": "stream",
          "text": [
            "181/181 [==============================] - ETA: 0s - loss: 0.2044 - accuracy: 0.9365"
          ]
        },
        {
          "name": "stderr",
          "output_type": "stream",
          "text": [
            "2023-11-03 02:10:12.501651: W tensorflow/core/lib/png/png_io.cc:88] PNG warning: iCCP: known incorrect sRGB profile\n"
          ]
        },
        {
          "name": "stdout",
          "output_type": "stream",
          "text": [
            "181/181 [==============================] - 67s 370ms/step - loss: 0.2044 - accuracy: 0.9365 - val_loss: 0.3314 - val_accuracy: 0.8710\n",
            "Epoch 39/40\n",
            "138/181 [=====================>........] - ETA: 13s - loss: 0.1906 - accuracy: 0.9432"
          ]
        },
        {
          "name": "stderr",
          "output_type": "stream",
          "text": [
            "2023-11-03 02:11:03.478488: W tensorflow/core/lib/png/png_io.cc:88] PNG warning: iCCP: known incorrect sRGB profile\n"
          ]
        },
        {
          "name": "stdout",
          "output_type": "stream",
          "text": [
            "181/181 [==============================] - ETA: 0s - loss: 0.2007 - accuracy: 0.9420"
          ]
        },
        {
          "name": "stderr",
          "output_type": "stream",
          "text": [
            "2023-11-03 02:11:21.420145: W tensorflow/core/lib/png/png_io.cc:88] PNG warning: iCCP: known incorrect sRGB profile\n"
          ]
        },
        {
          "name": "stdout",
          "output_type": "stream",
          "text": [
            "181/181 [==============================] - 68s 375ms/step - loss: 0.2007 - accuracy: 0.9420 - val_loss: 0.3299 - val_accuracy: 0.8710\n",
            "Epoch 40/40\n",
            "138/181 [=====================>........] - ETA: 12s - loss: 0.1879 - accuracy: 0.9432"
          ]
        },
        {
          "name": "stderr",
          "output_type": "stream",
          "text": [
            "2023-11-03 02:12:11.061544: W tensorflow/core/lib/png/png_io.cc:88] PNG warning: iCCP: known incorrect sRGB profile\n"
          ]
        },
        {
          "name": "stdout",
          "output_type": "stream",
          "text": [
            "181/181 [==============================] - ETA: 0s - loss: 0.1976 - accuracy: 0.9434"
          ]
        },
        {
          "name": "stderr",
          "output_type": "stream",
          "text": [
            "2023-11-03 02:12:29.218617: W tensorflow/core/lib/png/png_io.cc:88] PNG warning: iCCP: known incorrect sRGB profile\n"
          ]
        },
        {
          "name": "stdout",
          "output_type": "stream",
          "text": [
            "181/181 [==============================] - 68s 372ms/step - loss: 0.1976 - accuracy: 0.9434 - val_loss: 0.3293 - val_accuracy: 0.8720\n"
          ]
        },
        {
          "data": {
            "text/plain": [
              "<keras.src.callbacks.History at 0x7fabd10a8fa0>"
            ]
          },
          "execution_count": 6,
          "metadata": {},
          "output_type": "execute_result"
        }
      ],
      "source": [
        "# load the pre-trained model, build the training model and train it.\n",
        "\n",
        "base_model = tf.keras.models.load_model(saving_path)                 #Loading base_model\n",
        "\n",
        "base_model.trainable = False                                        # Setting the model as non-trainable\n",
        "\n",
        "rescaling = tf.keras.Sequential([\n",
        "    tf.keras.layers.Rescaling(scale=1 / 127.5, offset=-1)             # Rescaling to (1, -1) range required for inceptionV3 model\n",
        "])\n",
        "augmentation = tf.keras.Sequential([                                # Applying augmentations o the images\n",
        "    tf.keras.layers.RandomFlip(\"horizontal\"),\n",
        "    tf.keras.layers.RandomRotation(0.1)\n",
        "])\n",
        "\n",
        "# def build_model(hp):\n",
        "\n",
        "inputs = tf.keras.Input(shape=(300, 300, 3))\n",
        "x = augmentation(inputs)\n",
        "x = rescaling(inputs)\n",
        "x = base_model(x, training=False)\n",
        "x = tf.keras.layers.GlobalAveragePooling2D()(x)\n",
        "x = tf.keras.layers.Dense(1024, activation= \"relu\")(x)\n",
        "outputs = tf.keras.layers.Dense(6, activation='softmax')(x)                   # \"softmax\" in the final layer for decision making\n",
        "model = tf.keras.Model(inputs, outputs)\n",
        "\n",
        "#     # learning_rate = hp.Float(\"lr\", min_value=1e-5, max_value=1e-3, sampling=\"log\")\n",
        "\n",
        "model.compile(\n",
        "    optimizer = tf.keras.optimizers.Adam(learning_rate = 0.0015),        # compiling with low learning rate\n",
        "    loss=tf.losses.SparseCategoricalCrossentropy(),\n",
        "    metrics=['accuracy'],\n",
        "    run_eagerly = True)\n",
        "\n",
        "    # return model \n",
        "\n",
        "# build_model(keras_tuner.HyperParameters())\n",
        "\n",
        "# tuner = keras_tuner.RandomSearch(\n",
        "#     hypermodel=build_model,\n",
        "#     objective=\"val_accuracy\",\n",
        "#     max_trials=5,\n",
        "#     executions_per_trial=2,\n",
        "#     overwrite=True,\n",
        "#     directory=\"/home/samer/Desktop/Beedoo/Expenses_tracker/project/Images/\",\n",
        "#     project_name=\"Tuner\",\n",
        "# )\n",
        "\n",
        "# tuner.search_space_summary()\n",
        "\n",
        "# tuner.search(dataset_path, epochs=5, validation_data = val_data)\n",
        "\n",
        "# tuner.results_summary()\n",
        "\n",
        "# # Model checkpoints for longer times of training\n",
        "# checkpoint_filepath = '/home/samer/Desktop/Beedoo/Expenses_tracker_stuff/checkpoint/'\n",
        "# model_checkpoint_callback = tf.keras.callbacks.ModelCheckpoint(\n",
        "#     filepath=checkpoint_filepath,\n",
        "#     save_weights_only=True,\n",
        "#     monitor='accuracy',\n",
        "#     mode='max',\n",
        "#     save_best_only=True)\n",
        "\n",
        "model.fit(                                                               # fitting the whole model for non-trainable base\n",
        "    dataset_path,\n",
        "    epochs=40,\n",
        "    # callbacks=[model_checkpoint_callback],\n",
        "    validation_data = val_data)\n",
        "\n",
        "# model.summary()\n",
        "\n",
        "# model.load_weights(checkpoint_filepath)\n",
        "# model.evaluate(\n",
        "#     x=x_test,\n",
        "#     y=y_test,)\n",
        "\n",
        "# full_model_saving_path = pathlib.Path('/home/samer/Desktop/Beedoo/Expenses_tracker_stuff/expenses_tracker_model_augmented,validated.h5')\n",
        "\n",
        "# tf.keras.models.save_model(model,                                     # saving the fully trained model\n",
        "#                            full_model_sadving_path,\n",
        "#                            overwrite=True,\n",
        "#                            save_format='tf'\n",
        "#                            )"
      ]
    },
    {
      "cell_type": "markdown",
      "metadata": {},
      "source": [
        "when working only on 6 classes with the highest count of images, the model gives 94 accuracy and 87 val accuracy and it is still going but that is it for 40 epochs"
      ]
    }
  ],
  "metadata": {
    "accelerator": "GPU",
    "colab": {
      "gpuType": "T4",
      "include_colab_link": true,
      "provenance": []
    },
    "kernelspec": {
      "display_name": "Python 3",
      "name": "python3"
    },
    "language_info": {
      "codemirror_mode": {
        "name": "ipython",
        "version": 3
      },
      "file_extension": ".py",
      "mimetype": "text/x-python",
      "name": "python",
      "nbconvert_exporter": "python",
      "pygments_lexer": "ipython3",
      "version": "3.9.18"
    },
    "orig_nbformat": 4
  },
  "nbformat": 4,
  "nbformat_minor": 0
}
