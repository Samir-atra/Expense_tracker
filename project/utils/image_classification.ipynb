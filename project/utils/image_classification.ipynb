{
  "cells": [
    {
      "cell_type": "markdown",
      "metadata": {
        "id": "view-in-github",
        "colab_type": "text"
      },
      "source": [
        "<a href=\"https://colab.research.google.com/github/Samir-atra/Expenses_tracker/blob/main/project/utils/image_classification.ipynb\" target=\"_parent\"><img src=\"https://colab.research.google.com/assets/colab-badge.svg\" alt=\"Open In Colab\"/></a>"
      ]
    },
    {
      "cell_type": "code",
      "execution_count": 1,
      "metadata": {
        "id": "B3c0hJAcG8IA"
      },
      "outputs": [],
      "source": [
        "import tensorflow as tf\n",
        "import matplotlib.pyplot as plt\n",
        "import os\n",
        "import pathlib\n",
        "import IPython\n",
        "import sys\n",
        "from sklearn.model_selection import train_test_split\n",
        "import cv2\n",
        "import numpy as np"
      ]
    },
    {
      "cell_type": "code",
      "execution_count": 26,
      "metadata": {
        "colab": {
          "base_uri": "https://localhost:8080/"
        },
        "id": "iyxy9EYKG8IB",
        "outputId": "88c58de8-4c5f-481c-fde8-00515728bf2f"
      },
      "outputs": [
        {
          "output_type": "stream",
          "name": "stdout",
          "text": [
            "Drive already mounted at /content/drive; to attempt to forcibly remount, call drive.mount(\"/content/drive\", force_remount=True).\n"
          ]
        }
      ],
      "source": [
        "from google.colab import drive\n",
        "drive.mount('/content/drive')"
      ]
    },
    {
      "cell_type": "code",
      "execution_count": 50,
      "metadata": {
        "id": "IzS-sApgG8IB",
        "outputId": "f47d7c35-4504-48a1-92b5-2ec5db579859",
        "colab": {
          "base_uri": "https://localhost:8080/"
        }
      },
      "outputs": [
        {
          "output_type": "stream",
          "name": "stdout",
          "text": [
            "796\n",
            "[10, 10, 10, 10, 10, 10, 10, 10, 10, 10, 10, 10, 10, 10, 10, 10, 10, 10, 10, 10, 10, 10, 10, 10, 10, 10, 10, 10, 10, 10, 10, 10, 10, 10, 10, 10, 10, 10, 10, 10, 10, 10, 10, 10, 10, 10, 10, 10, 10, 10, 10, 10, 10, 10, 10, 10, 10, 10, 10, 10, 10, 10, 10, 10, 10, 10, 10, 10, 10, 10, 10, 10, 10, 10, 10, 10, 10, 10, 10, 10, 10, 10, 10, 10, 10, 10, 10, 10, 10, 10, 10, 10, 10, 10, 10, 10, 10, 10, 10, 10, 10, 10, 10, 10, 10, 10, 10, 10, 10, 10, 10, 10, 10, 10, 10, 10, 10, 10, 10, 10, 10, 10, 10, 10, 10, 10, 10, 10, 10, 10, 10, 10, 10, 10, 10, 10, 10, 10, 10, 10, 10, 10, 10, 10, 10, 10, 10, 10, 10, 10, 10, 10, 10, 10, 10, 10, 10, 10, 10, 10, 10, 10, 10, 10, 10, 10, 10, 10, 10, 10, 10, 10, 10, 10, 10, 10, 10, 10, 10, 10, 10, 10, 10, 10, 10, 10, 10, 10, 10, 10, 10, 10, 10, 10, 10, 10, 10, 10, 10, 10, 10, 10, 10, 10, 10, 10, 10, 10, 10, 10, 10, 10, 10, 10, 10, 10, 10, 10, 10, 10, 10, 10, 10, 10, 10, 10, 10, 10, 10, 10, 10, 10, 10, 10, 10, 10, 10, 10, 10, 10, 10, 10, 10, 10, 10, 10, 10, 10, 10, 10, 10, 10, 10, 10, 10, 10, 10, 10, 10, 10, 10, 10, 10, 10, 10, 10, 10, 10, 10, 10, 10, 10, 10, 10, 10, 10, 10, 10, 10, 10, 10, 10, 10, 10, 10, 10, 10, 10, 10, 10, 10, 10, 10, 10, 10, 10, 10, 10, 10, 10, 10, 10, 10, 10, 10, 10, 10, 10, 10, 10, 10, 10, 10, 10, 10, 10, 10, 10, 10, 10, 10, 10, 10, 10, 10, 10, 10, 10, 10, 10, 10, 10, 10, 10, 10, 10, 10, 10, 10, 10, 10, 10, 10, 10, 10, 10, 10, 10, 10, 10, 10, 10, 11, 11, 11, 11, 11, 11, 11, 11, 11, 11, 11, 11, 11, 11, 11, 11, 11, 11, 11, 11, 11, 11, 11, 11, 11, 11, 11, 11, 11, 11, 11, 11, 11, 11, 11, 11, 11, 11, 11, 11, 11, 11, 11, 11, 11, 11, 11, 11, 11, 11, 11, 11, 11, 11, 11, 11, 11, 11, 11, 11, 11, 11, 11, 11, 11, 11, 11, 11, 11, 11, 11, 11, 11, 11, 11, 11, 11, 11, 11, 11, 11, 11, 11, 11, 11, 11, 11, 11, 11, 11, 11, 11, 11, 11, 11, 11, 11, 11, 11, 11, 11, 11, 11, 11, 11, 11, 11, 11, 11, 11, 11, 11, 11, 11, 11, 11, 11, 11, 11, 11, 11, 11, 11, 11, 11, 11, 11, 11, 11, 11, 11, 11, 11, 11, 11, 11, 11, 11, 11, 11, 11, 11, 11, 11, 11, 11, 11, 11, 11, 11, 11, 11, 11, 11, 11, 11, 11, 11, 11, 11, 11, 11, 11, 11, 11, 11, 11, 11, 11, 11, 11, 11, 11, 11, 11, 11, 11, 11, 11, 11, 11, 11, 11, 11, 11, 11, 11, 11, 11, 11, 11, 11, 11, 11, 11, 11, 11, 11, 11, 11, 11, 11, 11, 11, 11, 11, 11, 11, 11, 11, 11, 11, 11, 11, 11, 11, 11, 11, 11, 11, 11, 11, 11, 11, 11, 11, 11, 11, 11, 11, 11, 11, 11, 11, 11, 11, 11, 11, 11, 11, 11, 11, 11, 11, 11, 11, 11, 11, 11, 11, 11, 11, 11, 11, 11, 11, 11, 11, 11, 11, 11, 11, 11, 11, 11, 11, 11, 11, 11, 11, 11, 11, 11, 11, 11, 11, 11, 11, 11, 11, 11, 11, 11, 11, 11, 11, 11, 11, 11, 11, 11, 11, 11, 11, 11, 11, 11, 11, 11, 11, 11, 11, 11, 11, 11, 11, 11, 11, 11, 11, 11, 11, 11, 11, 11, 11, 11, 11, 11, 11, 11, 11, 11, 11, 11, 11, 11, 11, 11, 11, 11, 11, 11, 11, 11, 11, 11, 11, 11, 11, 11, 11, 11, 11, 11, 11, 11, 11, 11, 11, 11, 11, 11, 11, 11, 11, 11, 11, 11, 11, 11, 11, 11, 11, 11, 11, 11, 11, 11, 11, 11, 11, 11, 11, 11, 11, 11, 11, 11, 11, 11, 11, 11, 11, 11, 11, 11, 11, 11, 11, 11, 11, 11, 11, 11, 11, 11, 11, 11, 11, 11, 11, 11, 11, 11, 11, 11, 11, 11, 11, 11, 11, 11, 11, 11, 11, 11, 11, 11, 11, 11, 11, 11, 11, 11, 11, 11, 11, 11, 11, 11, 11, 11, 11, 11, 11, 11, 11, 11, 11, 11, 11, 11, 11]\n"
          ]
        }
      ],
      "source": [
        "data_dir = pathlib.Path('/content/drive/MyDrive/expenses_tracker_classifier/Tobacco3482-jpg/')\n",
        "\n",
        "def load_data(dir):\n",
        "    img_data_array = []\n",
        "    class_name = []\n",
        "    class_num = 0\n",
        "\n",
        "    for dir1 in os.listdir(dir):\n",
        "        # print(\"this is dir1\", dir1)\n",
        "        for filey in os.listdir(os.path.join(dir, dir1)):\n",
        "            image_path = os.path.join(dir, dir1, filey)\n",
        "            image = cv2.imread(image_path, cv2.COLOR_BGR2RGB)\n",
        "            if image is None:\n",
        "                continue\n",
        "            image = cv2.resize(image, (300, 300))\n",
        "            image = np.array(image)\n",
        "            image = image.astype(\"float32\")\n",
        "            # image /= 255\n",
        "            if len(image.shape) < 3:\n",
        "                continue\n",
        "            else:\n",
        "                img_data_array.append(image)\n",
        "                class_name.append(class_num)\n",
        "        class_num +=1\n",
        "        # print(class_num, dir1)\n",
        "    return img_data_array, class_name, class_num\n",
        "\n",
        "\n",
        "\n",
        "\n",
        "# Split data into training and testing sets\n",
        "img_data_array, class_name, class_num = load_data(data_dir)\n",
        "# labels = tf.keras.utils.to_categorical(class_name)\n",
        "# print(labels)\n",
        "x_train, x_test, y_train, y_test = train_test_split(np.array(img_data_array), np.array(class_name), test_size=0.3)\n",
        "\n",
        "# data_path_test = pathlib.Path('/content/drive/MyDrive/archiveX3/Testing/')\n",
        "# AUTOTUNE=tf.data.AUTOTUNE\n",
        "\n",
        "# dataset_path = tf.keras.utils.image_dataset_from_directory(        # Training dataset\n",
        "#     data_path,\n",
        "#     labels= 'inferred',\n",
        "#     validation_split=0.2,\n",
        "#     subset='training',\n",
        "#     seed= 1,\n",
        "#     batch_size=5,\n",
        "#     image_size=(299, 299),\n",
        "#     color_mode=\"rgb\",\n",
        "#     shuffle=True)#.cache().prefetch(buffer_size=AUTOTUNE)\n",
        "\n",
        "# dataset_path_val = tf.keras.utils.image_dataset_from_directory(      #Validation dataset\n",
        "#     data_path,\n",
        "#     labels= 'inferred',\n",
        "#     validation_split=0.2,\n",
        "#     subset='validation',\n",
        "#     seed= 2,\n",
        "#     batch_size=5,\n",
        "#     image_size=(299, 299),\n",
        "#     color_mode=\"rgb\",\n",
        "#     shuffle=True)#.cache().prefetch(buffer_size=AUTOTUNE)"
      ]
    },
    {
      "cell_type": "code",
      "execution_count": 39,
      "metadata": {
        "id": "UrW9sFPBG8IB"
      },
      "outputs": [],
      "source": [
        "base_model = tf.keras.applications.inception_v3.InceptionV3(\n",
        "    input_shape = (300, 300, 3),\n",
        "    include_top = False,\n",
        "    weights = \"imagenet\"\n",
        ")"
      ]
    },
    {
      "cell_type": "code",
      "execution_count": 40,
      "metadata": {
        "colab": {
          "base_uri": "https://localhost:8080/"
        },
        "id": "m_eL5sLsG8IB",
        "outputId": "b811982d-5938-4f65-81a9-7e463c02d15d"
      },
      "outputs": [
        {
          "output_type": "stream",
          "name": "stderr",
          "text": [
            "/usr/local/lib/python3.10/dist-packages/keras/src/engine/training.py:3000: UserWarning: You are saving your model as an HDF5 file via `model.save()`. This file format is considered legacy. We recommend using instead the native Keras format, e.g. `model.save('my_model.keras')`.\n",
            "  saving_api.save_model(\n",
            "WARNING:tensorflow:Compiled the loaded model, but the compiled metrics have yet to be built. `model.compile_metrics` will be empty until you train or evaluate the model.\n"
          ]
        }
      ],
      "source": [
        "saving_path = pathlib.Path('/content/drive/MyDrive/expenses_tracker_classifier/expenses_tracker_classifier95%test.h5')\n",
        "\n",
        "base_model.save(saving_path)"
      ]
    },
    {
      "cell_type": "code",
      "execution_count": 41,
      "metadata": {
        "id": "WeasOrdqG8IC",
        "outputId": "42f0dfbd-4e4f-42e3-e91b-6e150556c1ad",
        "colab": {
          "base_uri": "https://localhost:8080/"
        }
      },
      "outputs": [
        {
          "output_type": "stream",
          "name": "stderr",
          "text": [
            "WARNING:tensorflow:No training configuration found in the save file, so the model was *not* compiled. Compile it manually.\n"
          ]
        },
        {
          "output_type": "stream",
          "name": "stdout",
          "text": [
            "Epoch 1/30\n",
            "18/18 [==============================] - 11s 504ms/step - loss: 1.3801 - accuracy: 0.4542\n",
            "Epoch 2/30\n",
            "18/18 [==============================] - 10s 535ms/step - loss: 0.2591 - accuracy: 0.9515\n",
            "Epoch 3/30\n",
            "18/18 [==============================] - 10s 545ms/step - loss: 0.1034 - accuracy: 0.9946\n",
            "Epoch 4/30\n",
            "18/18 [==============================] - 9s 514ms/step - loss: 0.0645 - accuracy: 0.9982\n",
            "Epoch 5/30\n",
            "18/18 [==============================] - 10s 535ms/step - loss: 0.0492 - accuracy: 0.9982\n",
            "Epoch 6/30\n",
            "18/18 [==============================] - 10s 544ms/step - loss: 0.0360 - accuracy: 1.0000\n",
            "Epoch 7/30\n",
            "18/18 [==============================] - 9s 520ms/step - loss: 0.0333 - accuracy: 1.0000\n",
            "Epoch 8/30\n",
            "18/18 [==============================] - 9s 514ms/step - loss: 0.0280 - accuracy: 1.0000\n",
            "Epoch 9/30\n",
            "18/18 [==============================] - 10s 551ms/step - loss: 0.0225 - accuracy: 1.0000\n",
            "Epoch 10/30\n",
            "18/18 [==============================] - 10s 542ms/step - loss: 0.0219 - accuracy: 1.0000\n",
            "Epoch 11/30\n",
            "18/18 [==============================] - 9s 516ms/step - loss: 0.0180 - accuracy: 1.0000\n",
            "Epoch 12/30\n",
            "18/18 [==============================] - 10s 548ms/step - loss: 0.0165 - accuracy: 1.0000\n",
            "Epoch 13/30\n",
            "18/18 [==============================] - 10s 544ms/step - loss: 0.0144 - accuracy: 1.0000\n",
            "Epoch 14/30\n",
            "18/18 [==============================] - 10s 528ms/step - loss: 0.0143 - accuracy: 1.0000\n",
            "Epoch 15/30\n",
            "18/18 [==============================] - 9s 521ms/step - loss: 0.0117 - accuracy: 1.0000\n",
            "Epoch 16/30\n",
            "18/18 [==============================] - 10s 543ms/step - loss: 0.0122 - accuracy: 1.0000\n",
            "Epoch 17/30\n",
            "18/18 [==============================] - 10s 536ms/step - loss: 0.0102 - accuracy: 1.0000\n",
            "Epoch 18/30\n",
            "18/18 [==============================] - 9s 506ms/step - loss: 0.0093 - accuracy: 1.0000\n",
            "Epoch 19/30\n",
            "18/18 [==============================] - 10s 542ms/step - loss: 0.0087 - accuracy: 1.0000\n",
            "Epoch 20/30\n",
            "18/18 [==============================] - 10s 546ms/step - loss: 0.0091 - accuracy: 1.0000\n",
            "Epoch 21/30\n",
            "18/18 [==============================] - 10s 531ms/step - loss: 0.0084 - accuracy: 1.0000\n",
            "Epoch 22/30\n",
            "18/18 [==============================] - 10s 531ms/step - loss: 0.0099 - accuracy: 0.9982\n",
            "Epoch 23/30\n",
            "18/18 [==============================] - 10s 541ms/step - loss: 0.0077 - accuracy: 1.0000\n",
            "Epoch 24/30\n",
            "18/18 [==============================] - 10s 547ms/step - loss: 0.0065 - accuracy: 1.0000\n",
            "Epoch 25/30\n",
            "18/18 [==============================] - 10s 556ms/step - loss: 0.0064 - accuracy: 1.0000\n",
            "Epoch 26/30\n",
            "18/18 [==============================] - 10s 540ms/step - loss: 0.0055 - accuracy: 1.0000\n",
            "Epoch 27/30\n",
            "18/18 [==============================] - 10s 535ms/step - loss: 0.0065 - accuracy: 1.0000\n",
            "Epoch 28/30\n",
            "18/18 [==============================] - 9s 513ms/step - loss: 0.0053 - accuracy: 1.0000\n",
            "Epoch 29/30\n",
            "18/18 [==============================] - 10s 542ms/step - loss: 0.0047 - accuracy: 1.0000\n",
            "Epoch 30/30\n",
            "18/18 [==============================] - 10s 535ms/step - loss: 0.0044 - accuracy: 1.0000\n",
            "8/8 [==============================] - 2s 208ms/step - loss: 0.0272 - accuracy: 0.9958\n"
          ]
        },
        {
          "output_type": "execute_result",
          "data": {
            "text/plain": [
              "[0.027193671092391014, 0.9958158731460571]"
            ]
          },
          "metadata": {},
          "execution_count": 41
        }
      ],
      "source": [
        "model_path = pathlib.Path('/content/drive/MyDrive/expenses_tracker_classifier/expenses_tracker_classifier95%test.h5')\n",
        "\n",
        "base_model = tf.keras.models.load_model(model_path)                 #Loading base_model\n",
        "\n",
        "base_model.trainable = False                                        # Setting the model as non-trainable\n",
        "\n",
        "rescaling = tf.keras.Sequential([\n",
        "  tf.keras.layers.Rescaling(scale=1 / 127.5, offset=-1)             # Rescaling to (1, -1) range required for inceptionV3 model\n",
        "])\n",
        "augmentation = tf.keras.Sequential([                                # Applying augmentations o the images\n",
        "   tf.keras.layers.RandomFlip(\"horizontal\"),\n",
        "   tf.keras.layers.RandomRotation(0.1)\n",
        "])\n",
        "\n",
        "\n",
        "inputs = tf.keras.Input(shape=(300, 300, 3))\n",
        "x = augmentation(inputs)\n",
        "x = rescaling(x)\n",
        "x = base_model(x, training=False)\n",
        "x = tf.keras.layers.GlobalAveragePooling2D()(x)\n",
        "outputs = tf.keras.layers.Dense(12, activation='softmax')(x)                   # \"softmax\" in the final layer for decision making\n",
        "model = tf.keras.Model(inputs, outputs)\n",
        "\n",
        "\n",
        "model.compile(\n",
        "    optimizer = tf.keras.optimizers.Adam(learning_rate = 0.0005),        # compiling with low learning rate\n",
        "    loss=tf.losses.SparseCategoricalCrossentropy(),\n",
        "    metrics=['accuracy'],\n",
        "    run_eagerly = True)\n",
        "\n",
        "model.fit(                                                               # fitting the whole model for non-trainable base\n",
        "    x_train,\n",
        "    y_train,\n",
        "    epochs=30,)\n",
        "\n",
        "model.evaluate(\n",
        "    x=x_test,\n",
        "    y=y_test,)\n"
      ]
    },
    {
      "cell_type": "code",
      "source": [
        "loading_path = pathlib.Path('/content/drive/MyDrive/expenses_tracker_classifier/expenses_tracker_classifier95%test.h5')\n",
        "loaded_model = tf.keras.models.load_model(loading_path, compile=True)\n",
        "pred_img_path = pathlib.Path('/content/drive/MyDrive/expenses_tracker_classifier/pred_imgs/')\n",
        "# images, labels = load_data(pred_img_path)\n",
        "# print(\"this is iamges\", len(labels), labels)\n",
        "# print(\"this is labels\", labels)\n",
        "\n",
        "loaded_model.compile(\n",
        "    optimizer = tf.keras.optimizers.Adam(learning_rate = 0.0005),        # compiling with low learning rate\n",
        "    loss=tf.losses.SparseCategoricalCrossentropy(from_logits= True),\n",
        "    metrics=['accuracy'],\n",
        "    run_eagerly = False)\n",
        "\n",
        "dataset_pathy = tf.keras.utils.image_dataset_from_directory(\n",
        "    pred_img_path,\n",
        "    labels= 'inferred',\n",
        "    seed= 1,\n",
        "    batch_size=1,\n",
        "    image_size=(300, 300),\n",
        "    color_mode=\"rgb\",\n",
        "    shuffle=False)\n",
        "\n",
        "\n",
        "# # for image in images:\n",
        "#   #  for i in range(1):\n",
        "#       #  ax = plt.subplot(1, 1, i+1)\n",
        "#    plt.imshow(images[0].astype(\"uint8\"))\n",
        "#       #  plt.title(class_names[labels[i]])\n",
        "#       #  plt.axis(\"off\")\n",
        "#    plt.show()\n",
        "\n",
        "\n",
        "sample_list = []                                                        # creating a list of sample(s)\n",
        "for sample, label in dataset_pathy:\n",
        "    sample_list.append(sample)\n",
        "    continue\n",
        "\n",
        "sample_list = np.array(sample_list)\n",
        "for sample in sample_list:\n",
        "    print(sample.shape)\n",
        "    # images[0] = tf.expand_dims(images[0], axis=0)\n",
        "    predictions = loaded_model.predict(sample)\n",
        "    pred = np.argmax(predictions, axis=1)\n",
        "    print(predictions.shape)\n",
        "    print(pred.shape)\n",
        "    if pred[0] == 0:\n",
        "      print(\"beedoo\")"
      ],
      "metadata": {
        "colab": {
          "base_uri": "https://localhost:8080/",
          "height": 369
        },
        "id": "YtpO0zf-U6FZ",
        "outputId": "1fb1fcfb-e49b-452e-8947-3d650104fecc"
      },
      "execution_count": 48,
      "outputs": [
        {
          "output_type": "stream",
          "name": "stderr",
          "text": [
            "WARNING:tensorflow:No training configuration found in the save file, so the model was *not* compiled. Compile it manually.\n"
          ]
        },
        {
          "output_type": "stream",
          "name": "stdout",
          "text": [
            "Found 1 files belonging to 1 classes.\n",
            "(1, 300, 300, 3)\n",
            "1/1 [==============================] - 1s 1s/step\n",
            "(1, 8, 8, 2048)\n",
            "(1, 8, 2048)\n"
          ]
        },
        {
          "output_type": "error",
          "ename": "ValueError",
          "evalue": "ignored",
          "traceback": [
            "\u001b[0;31m---------------------------------------------------------------------------\u001b[0m",
            "\u001b[0;31mValueError\u001b[0m                                Traceback (most recent call last)",
            "\u001b[0;32m<ipython-input-48-c088898a1b47>\u001b[0m in \u001b[0;36m<cell line: 39>\u001b[0;34m()\u001b[0m\n\u001b[1;32m     44\u001b[0m     \u001b[0mprint\u001b[0m\u001b[0;34m(\u001b[0m\u001b[0mpredictions\u001b[0m\u001b[0;34m.\u001b[0m\u001b[0mshape\u001b[0m\u001b[0;34m)\u001b[0m\u001b[0;34m\u001b[0m\u001b[0;34m\u001b[0m\u001b[0m\n\u001b[1;32m     45\u001b[0m     \u001b[0mprint\u001b[0m\u001b[0;34m(\u001b[0m\u001b[0mpred\u001b[0m\u001b[0;34m.\u001b[0m\u001b[0mshape\u001b[0m\u001b[0;34m)\u001b[0m\u001b[0;34m\u001b[0m\u001b[0;34m\u001b[0m\u001b[0m\n\u001b[0;32m---> 46\u001b[0;31m     \u001b[0;32mif\u001b[0m \u001b[0mpred\u001b[0m\u001b[0;34m[\u001b[0m\u001b[0;36m0\u001b[0m\u001b[0;34m]\u001b[0m \u001b[0;34m==\u001b[0m \u001b[0;36m0\u001b[0m\u001b[0;34m:\u001b[0m\u001b[0;34m\u001b[0m\u001b[0;34m\u001b[0m\u001b[0m\n\u001b[0m\u001b[1;32m     47\u001b[0m       \u001b[0mprint\u001b[0m\u001b[0;34m(\u001b[0m\u001b[0;34m\"beedoo\"\u001b[0m\u001b[0;34m)\u001b[0m\u001b[0;34m\u001b[0m\u001b[0;34m\u001b[0m\u001b[0m\n",
            "\u001b[0;31mValueError\u001b[0m: The truth value of an array with more than one element is ambiguous. Use a.any() or a.all()"
          ]
        }
      ]
    }
  ],
  "metadata": {
    "language_info": {
      "name": "python"
    },
    "orig_nbformat": 4,
    "colab": {
      "provenance": [],
      "gpuType": "T4",
      "include_colab_link": true
    },
    "accelerator": "GPU",
    "kernelspec": {
      "name": "python3",
      "display_name": "Python 3"
    }
  },
  "nbformat": 4,
  "nbformat_minor": 0
}